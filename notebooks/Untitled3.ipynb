{
 "cells": [
  {
   "cell_type": "code",
   "execution_count": 96,
   "metadata": {
    "collapsed": false
   },
   "outputs": [
    {
     "name": "stdout",
     "output_type": "stream",
     "text": [
      "min:\t-9.97\n",
      "max:\t90.0\n",
      "mean:\t39.62\n",
      "std:\t28.88\n",
      "##########\n",
      "min:\t-25.0\n",
      "max:\t50.0\n",
      "mean:\t12.21\n",
      "std:\t21.67\n"
     ]
    }
   ],
   "source": [
    "import numpy as np\n",
    "def stats(x):\n",
    "    print 'min:\\t', round(x.min(),2)\n",
    "    print 'max:\\t', round(x.max(),2)\n",
    "    print 'mean:\\t', round(x.mean(),2)\n",
    "    print 'std:\\t', round(x.std(),2)\n",
    "    \n",
    "    \n",
    "def stretch_range(self,x,m,M):\n",
    "    assert len(x.shape) == 3\n",
    "    Max = x.max(axis=0)\n",
    "    Min = x.min(axis=0)\n",
    "    y = (M-m)*(x.copy() - Min)/(Max - Min) + m\n",
    "    return y\n",
    "    \n",
    "\n",
    "x = 100.0*(np.random.rand(100,100)-0.1)\n",
    "stats(x)\n",
    "print '##########'\n",
    "y = x.copy()\n",
    "stats(easy_stretch(x,m =-25.0,M=50.0))"
   ]
  },
  {
   "cell_type": "code",
   "execution_count": 83,
   "metadata": {
    "collapsed": false
   },
   "outputs": [
    {
     "name": "stdout",
     "output_type": "stream",
     "text": [
      "min:\t-9.99\n",
      "max:\t90.01\n",
      "mean:\t40.62\n",
      "std:\t28.79\n"
     ]
    }
   ],
   "source": []
  },
  {
   "cell_type": "code",
   "execution_count": null,
   "metadata": {
    "collapsed": true
   },
   "outputs": [],
   "source": []
  },
  {
   "cell_type": "code",
   "execution_count": null,
   "metadata": {
    "collapsed": true
   },
   "outputs": [],
   "source": []
  }
 ],
 "metadata": {
  "kernelspec": {
   "display_name": "Python 2",
   "language": "python",
   "name": "python2"
  },
  "language_info": {
   "codemirror_mode": {
    "name": "ipython",
    "version": 2
   },
   "file_extension": ".py",
   "mimetype": "text/x-python",
   "name": "python",
   "nbconvert_exporter": "python",
   "pygments_lexer": "ipython2",
   "version": "2.7.6"
  }
 },
 "nbformat": 4,
 "nbformat_minor": 0
}

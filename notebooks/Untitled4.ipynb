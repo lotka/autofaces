{
 "cells": [
  {
   "cell_type": "code",
   "execution_count": 14,
   "metadata": {
    "collapsed": false
   },
   "outputs": [
    {
     "name": "stdout",
     "output_type": "stream",
     "text": [
      "9\n",
      "[-1.         -0.77777778 -0.55555556  0.33333333  0.55555556  0.77777778\n",
      "  1.        ]\n",
      "[ 0.91588785  0.92523364  0.93457944  0.97196262  0.98130841  0.99065421\n",
      "  1.        ]\n"
     ]
    }
   ],
   "source": [
    "import numpy as np\n",
    "data = np.array([-2,-1,0,4,5,6,7]) + 100\n",
    "range = data.max()-data.min()\n",
    "print range\n",
    "print (data - (data.min() + range/2.0)) / (range / 2.0)\n",
    "print data/float(data.max())"
   ]
  },
  {
   "cell_type": "code",
   "execution_count": null,
   "metadata": {
    "collapsed": true
   },
   "outputs": [],
   "source": []
  }
 ],
 "metadata": {
  "kernelspec": {
   "display_name": "Python 2",
   "language": "python",
   "name": "python2"
  },
  "language_info": {
   "codemirror_mode": {
    "name": "ipython",
    "version": 2
   },
   "file_extension": ".py",
   "mimetype": "text/x-python",
   "name": "python",
   "nbconvert_exporter": "python",
   "pygments_lexer": "ipython2",
   "version": "2.7.10"
  }
 },
 "nbformat": 4,
 "nbformat_minor": 0
}

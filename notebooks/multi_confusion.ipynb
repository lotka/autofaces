{
 "cells": [
  {
   "cell_type": "code",
   "execution_count": 66,
   "metadata": {
    "collapsed": false
   },
   "outputs": [
    {
     "data": {
      "text/plain": [
       "(array([[ 0.5       ,  1.        ,  0.66666667,  0.94736842],\n",
       "        [ 0.46153846,  0.85714286,  0.6       ,  0.43956044],\n",
       "        [ 0.27272727,  0.42857143,  0.33333333,  0.52747253],\n",
       "        [ 0.5       ,  0.33333333,  0.4       ,  0.39583333],\n",
       "        [ 0.55555556,  0.41666667,  0.47619048,  0.39583333]]),\n",
       " [array([[18,  1],\n",
       "         [ 0,  1]]), array([[6, 7],\n",
       "         [1, 6]]), array([[5, 8],\n",
       "         [4, 3]]), array([[4, 4],\n",
       "         [8, 4]]), array([[4, 4],\n",
       "         [7, 5]])])"
      ]
     },
     "execution_count": 66,
     "metadata": {},
     "output_type": "execute_result"
    }
   ],
   "source": [
    "from scipy.stats import hmean\n",
    "from sklearn.metrics import roc_curve, auc\n",
    "\n",
    "y_pred = np.random.rand(20,5)\n",
    "y_true = np.random.randint(low=0,high=2,size=(20,5),dtype='int')\n",
    "\n",
    "\n",
    "y_pred[:,0] *= 0\n",
    "y_true[:,0] *= 0\n",
    "\n",
    "y_true[0,0] = 1\n",
    "y_pred[0,0] = 0.7\n",
    "y_pred[1,0] = 0.9\n",
    "\n",
    "\n",
    "def safe_div(x,y):\n",
    "    if y == 0.0 and x == 0.0:\n",
    "        return 0.0\n",
    "    else:\n",
    "        return x/y\n",
    "    \n",
    "def round_list(a,p=2):\n",
    "    res = []\n",
    "    for x in a:\n",
    "        res.append(round(x,p))\n",
    "    return res\n",
    "\n",
    "def confuse_2d(y_true,y_pred):\n",
    "    no_classes = 2\n",
    "    confuse =  np.zeros((no_classes,no_classes),dtype=int)\n",
    "\n",
    "    N = len(y_true)\n",
    "    for i in xrange(N):\n",
    "        confuse[y_true[i],y_pred[i]] += 1\n",
    "        \n",
    "    prec = safe_div(float(confuse[1,1]),float(confuse[:,1].sum()))\n",
    "    recall = safe_div(float(confuse[1,1]),float(confuse[1,:].sum()))\n",
    "    f1 = hmean([prec,recall])\n",
    "    return prec,recall,f1,confuse\n",
    "\n",
    "def multi_eval(y_pred,y_true,verbose=False):\n",
    "    yp_shape = y_pred.shape\n",
    "    yt_shape = y_true.shape \n",
    "    assert yp_shape == yt_shape\n",
    "    runs, classes = yt_shape\n",
    "    y_pred_binary = y_pred.copy()\n",
    "    \n",
    "    for r in xrange(runs):\n",
    "        for c in xrange(classes):\n",
    "            if y_pred_binary[r,c] > 0.5:\n",
    "                y_pred_binary[r,c] = 1.0\n",
    "            else:\n",
    "                y_pred_binary[r,c] = 0.0\n",
    "                \n",
    "    y_pred = y_pred.astype(float)\n",
    "    y_true = y_true.astype(int)\n",
    "    y_pred_binary = y_pred_binary.astype(int)\n",
    "    \n",
    "    \n",
    "    res = np.zeros((classes,4))\n",
    "    confusion_matrices = []\n",
    "    for i in xrange(classes):\n",
    "        prec,recall,f1,confuse = confuse_2d(y_true[:,i],y_pred_binary[:,i])\n",
    "        fpr, tpr, _ = roc_curve(y_true[:,i],y_pred[:,i])\n",
    "        roc_auc = auc(fpr, tpr)\n",
    "        res[i,0] = prec\n",
    "        res[i,1] = recall\n",
    "        res[i,2] = f1\n",
    "        res[i,3] = roc_auc\n",
    "        confusion_matrices.append(confuse)\n",
    "        \n",
    "        \n",
    "    return res,confusion_matrices\n",
    "    \n",
    "multi_eval(y_pred,y_true)"
   ]
  },
  {
   "cell_type": "code",
   "execution_count": 28,
   "metadata": {
    "collapsed": false
   },
   "outputs": [
    {
     "name": "stdout",
     "output_type": "stream",
     "text": [
      "[[0 0 1 0 1]\n",
      " [1 0 0 0 1]\n",
      " [1 0 0 0 1]\n",
      " [1 0 1 0 1]\n",
      " [0 0 0 1 1]\n",
      " [1 1 0 0 1]\n",
      " [0 1 0 1 1]\n",
      " [1 1 1 0 1]\n",
      " [0 0 1 0 0]\n",
      " [0 1 0 1 1]\n",
      " [1 1 0 0 0]\n",
      " [1 1 0 1 1]\n",
      " [0 0 0 1 1]\n",
      " [1 0 0 1 1]\n",
      " [1 1 0 1 1]\n",
      " [1 1 0 0 1]\n",
      " [1 1 0 1 0]\n",
      " [1 0 0 1 1]\n",
      " [0 0 0 0 1]\n",
      " [1 1 1 1 1]]\n"
     ]
    }
   ],
   "source": []
  },
  {
   "cell_type": "code",
   "execution_count": null,
   "metadata": {
    "collapsed": true
   },
   "outputs": [],
   "source": []
  },
  {
   "cell_type": "code",
   "execution_count": null,
   "metadata": {
    "collapsed": true
   },
   "outputs": [],
   "source": []
  }
 ],
 "metadata": {
  "kernelspec": {
   "display_name": "Python 2",
   "language": "python",
   "name": "python2"
  },
  "language_info": {
   "codemirror_mode": {
    "name": "ipython",
    "version": 2
   },
   "file_extension": ".py",
   "mimetype": "text/x-python",
   "name": "python",
   "nbconvert_exporter": "python",
   "pygments_lexer": "ipython2",
   "version": "2.7.10"
  }
 },
 "nbformat": 4,
 "nbformat_minor": 0
}

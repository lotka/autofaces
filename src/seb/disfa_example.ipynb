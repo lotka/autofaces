{
 "cells": [
  {
   "cell_type": "code",
   "execution_count": 1,
   "metadata": {
    "collapsed": false
   },
   "outputs": [],
   "source": [
    "%matplotlib inline\n",
    "import matplotlib.pyplot as plt\n",
    "import data_array as data_array\n",
    "import disfa as disfa\n",
    "import numpy as np\n",
    "from scipy import ndimage\n",
    "import scipy"
   ]
  },
  {
   "cell_type": "code",
   "execution_count": 2,
   "metadata": {
    "collapsed": false
   },
   "outputs": [
    {
     "name": "stdout",
     "output_type": "stream",
     "text": [
      "[FileHDF5] read file /home/luka/Documents/DISFA/Labels/AUall/SN005_labels_AUall.mat\n"
     ]
    }
   ],
   "source": [
    "# use the first subject as example. all availabe subjects are stored in disfa.disfa_id_subj_all\n",
    "id_sub = 5\n",
    "# load all AU targets from subject 1\n",
    "targets = disfa.disfa['AUall'][id_sub][:]"
   ]
  },
  {
   "cell_type": "code",
   "execution_count": 3,
   "metadata": {
    "collapsed": false
   },
   "outputs": [
    {
     "data": {
      "text/plain": [
       "(4845, 12)"
      ]
     },
     "execution_count": 3,
     "metadata": {},
     "output_type": "execute_result"
    }
   ],
   "source": [
    "# targets contain 4845 frames and 12 AUs\n",
    "# see http://www.engr.du.edu/mmahoor/DISFAContent.htm for the description of the AUs, the order is ascending\n",
    "targets.shape"
   ]
  },
  {
   "cell_type": "code",
   "execution_count": 4,
   "metadata": {
    "collapsed": false
   },
   "outputs": [
    {
     "name": "stdout",
     "output_type": "stream",
     "text": [
      "[FileHDF5] read file /home/luka/Documents/DISFA/Features/images/SN005_features_images.mat\n"
     ]
    }
   ],
   "source": [
    "#load all images from subject 1\n",
    "images = disfa.disfa['images'][id_sub][:]"
   ]
  },
  {
   "cell_type": "code",
   "execution_count": 5,
   "metadata": {
    "collapsed": false
   },
   "outputs": [
    {
     "data": {
      "text/plain": [
       "(4845, 118, 128)"
      ]
     },
     "execution_count": 5,
     "metadata": {},
     "output_type": "execute_result"
    }
   ],
   "source": [
    "# images contain 4845 frames with images of size 128 x 118 (x and y axis are swapped)\n",
    "images.shape"
   ]
  },
  {
   "cell_type": "code",
   "execution_count": 46,
   "metadata": {
    "collapsed": false
   },
   "outputs": [
    {
     "name": "stdout",
     "output_type": "stream",
     "text": [
      "annotated AUs are [ 0.  0.  0.  0.  0.  0.  1.  0.  0.  2.  0.  0.]\n",
      "(102, 71)\n"
     ]
    },
    {
     "data": {
      "image/png": "[encoded data removed]",
      "text/plain": [
       "<matplotlib.figure.Figure at 0x7f3e36147410>"
      ]
     },
     "metadata": {},
     "output_type": "display_data"
    },
    {
     "name": "stdout",
     "output_type": "stream",
     "text": [
      "2304\n"
     ]
    },
    {
     "ename": "AttributeError",
     "evalue": "'int' object has no attribute 'shape'",
     "output_type": "error",
     "traceback": [
      "\u001b[1;31m---------------------------------------------------------------------------\u001b[0m",
      "\u001b[1;31mAttributeError\u001b[0m                            Traceback (most recent call last)",
      "\u001b[1;32m<ipython-input-46-0bb5ffc0e556>\u001b[0m in \u001b[0;36m<module>\u001b[1;34m()\u001b[0m\n\u001b[0;32m     17\u001b[0m \u001b[0mplt\u001b[0m\u001b[1;33m.\u001b[0m\u001b[0mshow\u001b[0m\u001b[1;33m(\u001b[0m\u001b[1;33m)\u001b[0m\u001b[1;33m\u001b[0m\u001b[0m\n\u001b[0;32m     18\u001b[0m \u001b[1;32mprint\u001b[0m \u001b[1;36m48\u001b[0m\u001b[1;33m**\u001b[0m\u001b[1;36m2\u001b[0m\u001b[1;33m\u001b[0m\u001b[0m\n\u001b[1;32m---> 19\u001b[1;33m \u001b[1;32mprint\u001b[0m \u001b[0mx\u001b[0m\u001b[1;33m.\u001b[0m\u001b[0mshape\u001b[0m\u001b[1;33m[\u001b[0m\u001b[1;36m1\u001b[0m\u001b[1;33m]\u001b[0m\u001b[1;33m*\u001b[0m\u001b[0mx\u001b[0m\u001b[1;33m.\u001b[0m\u001b[0mshape\u001b[0m\u001b[1;33m[\u001b[0m\u001b[1;36m0\u001b[0m\u001b[1;33m]\u001b[0m\u001b[1;33m\u001b[0m\u001b[0m\n\u001b[0m",
      "\u001b[1;31mAttributeError\u001b[0m: 'int' object has no attribute 'shape'"
     ]
    }
   ],
   "source": [
    "i = 255\n",
    "plt.figure()\n",
    "# image = scipy.misc.imresize(images[i,118/2:,:],[118,128])\n",
    "# print the AU annotations and plot the image of the first sample\n",
    "print('annotated AUs are {}'.format(targets[i,:]))\n",
    "x,y = images[0,:,:].shape\n",
    "side_crop = 0.2\n",
    "l = int(0 + x*side_crop)\n",
    "r = int(x - x*side_crop)\n",
    "top_crop = 0.0\n",
    "bottom_crop = 0.2\n",
    "u = int(0 + y*top_crop)\n",
    "d = int(y - y*bottom_crop)\n",
    "im = images[i,u:d,l:r]\n",
    "plt.imshow(im, cmap='gray')\n",
    "print im.shape\n",
    "plt.show()\n",
    "print 48**2\n",
    "print x.shape[1]*x.shape[0]"
   ]
  },
  {
   "cell_type": "code",
   "execution_count": null,
   "metadata": {
    "collapsed": false
   },
   "outputs": [],
   "source": [
    "# as convenience function to load data from all subjects, use:\n",
    "targets_all, id_array = data_array.IndicesCollection(disfa.disfa_ic_all).getitem(disfa.disfa['AUall'])"
   ]
  },
  {
   "cell_type": "code",
   "execution_count": null,
   "metadata": {
    "collapsed": false
   },
   "outputs": [],
   "source": [
    "# id_array contains the subjects and frame number of each sample:\n",
    "id_array[0,:]\n",
    "#this means the first sample is from subject 1 frame 0"
   ]
  },
  {
   "cell_type": "code",
   "execution_count": null,
   "metadata": {
    "collapsed": false
   },
   "outputs": [],
   "source": [
    "a = 5000\n",
    "print 'subject', id_array[a,0], 'frame', id_array[a,1]\n",
    "print targets_all[a]\n",
    "print targets_all.shape"
   ]
  },
  {
   "cell_type": "code",
   "execution_count": null,
   "metadata": {
    "collapsed": false
   },
   "outputs": [],
   "source": [
    "import sPickle\n",
    "import gzip\n",
    "sPickle.s_dump(all_images, gzip.open( \"disfa_images.p\", \"wb\" ) )\n",
    "sPickle.s_dump((targets_all,id_array), gzip.open( \"disfa_labels.p\", \"wb\" ) )"
   ]
  },
  {
   "cell_type": "code",
   "execution_count": null,
   "metadata": {
    "collapsed": true
   },
   "outputs": [],
   "source": [
    "print 'done!'"
   ]
  },
  {
   "cell_type": "code",
   "execution_count": null,
   "metadata": {
    "collapsed": true
   },
   "outputs": [],
   "source": [
    "import pickle\n",
    "import gzip\n",
    "\n",
    "#store the object\n",
    "myObject = {'a':'blah','b':range(10)}\n",
    "f = gzip.open('testPickleFile.pklz','wb')\n",
    "pickle.dump(myObject,f)\n",
    "f.close()\n",
    "\n",
    "#restore the object\n",
    "f = gzip.open('testPickleFile.pklz','rb')\n",
    "myNewObject = pickle.load(f)\n",
    "f.close()\n",
    "\n",
    "print myObject\n",
    "print myNewObject"
   ]
  }
 ],
 "metadata": {
  "kernelspec": {
   "display_name": "Python 2",
   "language": "python",
   "name": "python2"
  },
  "language_info": {
   "codemirror_mode": {
    "name": "ipython",
    "version": 2
   },
   "file_extension": ".py",
   "mimetype": "text/x-python",
   "name": "python",
   "nbconvert_exporter": "python",
   "pygments_lexer": "ipython2",
   "version": "2.7.10"
  }
 },
 "nbformat": 4,
 "nbformat_minor": 0
}

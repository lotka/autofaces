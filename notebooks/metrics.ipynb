{
 "cells": [
  {
   "cell_type": "code",
   "execution_count": 1,
   "metadata": {
    "collapsed": false
   },
   "outputs": [
    {
     "name": "stdout",
     "output_type": "stream",
     "text": [
      "Extracting MNIST_data/train-images-idx3-ubyte.gz\n",
      "Extracting MNIST_data/train-labels-idx1-ubyte.gz\n",
      "Extracting MNIST_data/t10k-images-idx3-ubyte.gz\n",
      "Extracting MNIST_data/t10k-labels-idx1-ubyte.gz\n"
     ]
    }
   ],
   "source": [
    "import tensorflow as tf\n",
    "import numpy as np\n",
    "import matplotlib.pyplot as plt\n",
    "import math\n",
    "import random\n",
    "from sklearn import metrics\n",
    "\n",
    "# Get the data\n",
    "from tensorflow.examples.tutorials.mnist import input_data\n",
    "mnist = input_data.read_data_sets(\"MNIST_data/\", one_hot=True)\n",
    "\n",
    "# Create the network\n",
    "def create(x,y, layer_sizes):\n",
    "\n",
    "    # Build the encoding layers\n",
    "    next_layer_input = x\n",
    "    alpha = tf.Variable(0.0,trainable=False)\n",
    "\n",
    "    encoding_matrices = []\n",
    "    for dim in layer_sizes:\n",
    "        print next_layer_input.get_shape()\n",
    "        input_dim = int(next_layer_input.get_shape()[1])\n",
    "\n",
    "        # Initialize W using random values in interval [-1/sqrt(n) , 1/sqrt(n)]\n",
    "        W = tf.Variable(tf.random_uniform([input_dim, dim], -1.0 / math.sqrt(input_dim), 1.0 / math.sqrt(input_dim)))\n",
    "\n",
    "        # Initialize b to zero\n",
    "        b = tf.Variable(tf.zeros([dim]))\n",
    "\n",
    "        # We are going to use tied-weights so store the W matrix for later reference.\n",
    "        encoding_matrices.append(W)\n",
    "\n",
    "        output = tf.nn.relu(tf.matmul(next_layer_input,W) + b)\n",
    "\n",
    "        # the input into the next layer is the output of this layer\n",
    "        next_layer_input = output\n",
    "\n",
    "    # The fully encoded x value is now stored in the next_layer_input\n",
    "    encoded_x = next_layer_input\n",
    "\n",
    "    # build the reconstruction layers by reversing the reductions\n",
    "    layer_sizes.reverse()\n",
    "    encoding_matrices.reverse()\n",
    "\n",
    "\n",
    "    for i, dim in enumerate(layer_sizes[1:] + [ int(x.get_shape()[1])]) :\n",
    "        # we are using tied weights, so just lookup the encoding matrix for this step and transpose it\n",
    "        W = tf.transpose(encoding_matrices[i])\n",
    "        b = tf.Variable(tf.zeros([dim]))\n",
    "        output = tf.nn.relu(tf.matmul(next_layer_input,W) + b)\n",
    "        next_layer_input = output\n",
    "\n",
    "    # the fully encoded and reconstructed value of x is here:\n",
    "    reconstructed_x = next_layer_input\n",
    "\n",
    "    # Cost function for the auto encoder\n",
    "    auto_cost = tf.sqrt(tf.reduce_mean(tf.square(x-reconstructed_x)))\n",
    "\n",
    "    # Cost function for the classifier\n",
    "    class_cost = tf.sqrt(tf.reduce_mean(tf.square(y-encoded_x)))\n",
    "\n",
    "    return {\n",
    "        'encoded': encoded_x,\n",
    "        'decoded': reconstructed_x,\n",
    "        'cost' : auto_cost*(1-alpha)+class_cost*alpha,\n",
    "        'alpha' : alpha\n",
    "    }\n",
    "\n",
    "def compare(sess,data,i):\n",
    "    input = data.train.images[i]\n",
    "    output = sess.run(autoencoder['decoded'],{x:[input]})\n",
    "    input = np.array(input).reshape(28,28)\n",
    "    output = np.array(output).reshape(28,28)\n",
    "    fig = plt.figure()\n",
    "    plt.subplot(211)\n",
    "    plt.imshow(input,cmap='gray')\n",
    "    plt.subplot(212)\n",
    "    plt.imshow(output,cmap='gray')\n",
    "    plt.show()\n",
    "    print input,output\n",
    "\n",
    "def compareall(sess,data):\n",
    "    plt.figure()\n",
    "    for i in xrange(10):\n",
    "        input = data.train.images[i]\n",
    "        output = sess.run(autoencoder['decoded'],{x:[input]})\n",
    "        input = np.array(input).reshape(28,28)\n",
    "        output = np.array(output).reshape(28,28)\n",
    "        plt.subplot(2,10,i+1)\n",
    "        plt.imshow(input)\n",
    "        plt.subplot(2,10,10+i+1)\n",
    "        plt.imshow(output)\n",
    "    plt.show()"
   ]
  },
  {
   "cell_type": "code",
   "execution_count": 2,
   "metadata": {
    "collapsed": false
   },
   "outputs": [
    {
     "name": "stdout",
     "output_type": "stream",
     "text": [
      "(?, 784)\n",
      "(?, 500)\n",
      "(?, 400)\n",
      "(?, 300)\n",
      "0  cost 0.342552 0.0\n"
     ]
    }
   ],
   "source": [
    "\n",
    "sess = tf.Session()\n",
    "input_size = mnist.train.images.shape[1]\n",
    "x = tf.placeholder(tf.float32, [None, input_size])\n",
    "y = tf.placeholder(tf.float32,[None,10])\n",
    "\n",
    "sizes = [500,400,300,10]\n",
    "\n",
    "autoencoder = create(x,y,sizes)\n",
    "\n",
    "init = tf.initialize_all_variables()\n",
    "sess.run(init)\n",
    "train_step = tf.train.GradientDescentOptimizer(0.5).minimize(autoencoder['cost'])\n",
    "\n",
    "x_axis = np.zeros(0)\n",
    "y_axis = np.zeros(0)\n",
    "# do 1000 training steps\n",
    "for i in range(100):\n",
    "    batch_xs, batch_ys = mnist.train.next_batch(100)\n",
    "    sess.run(train_step, feed_dict={x: batch_xs, y: batch_ys})\n",
    "    if i % 100 == 0:\n",
    "        c = sess.run(autoencoder['cost'], feed_dict={x: batch_xs, y: batch_ys})\n",
    "        print i, \" cost\", c, sess.run(autoencoder['alpha'])\n",
    "        x_axis = np.append(x_axis,i)\n",
    "        y_axis = np.append(y_axis,c)\n",
    "        # print i, \" original\", batch[0]\n",
    "        # print i, \" decoded\", sess.run(autoencoder['decoded'], feed_dict={x: batch})\n",
    "\n",
    "\n",
    "# compare(sess,mnist,2)\n",
    "# compareall(sess,mnist)\n",
    "# plt.figure()\n",
    "# plt.plot(x_axis,y_axis)\n",
    "# plt.show()"
   ]
  },
  {
   "cell_type": "code",
   "execution_count": 4,
   "metadata": {
    "collapsed": false
   },
   "outputs": [
    {
     "name": "stdout",
     "output_type": "stream",
     "text": [
      "Tensor(\"Relu_3:0\", shape=(?, 10), dtype=float32)\n",
      "Tensor(\"Equal_1:0\", shape=(?,), dtype=bool)\n",
      "validation accuracy: 0.05\n",
      "Precision 0.05\n",
      "Recall 0.05\n",
      "f1_score 0.05\n",
      "confusion_matrix\n",
      "[[ 0  0  0  9  0  0  0  0  0  0]\n",
      " [ 0  0  0 14  0  0  0  0  0  0]\n",
      " [ 0  0  0  8  0  0  0  0  0  0]\n",
      " [ 0  0  0  5  0  0  0  0  0  0]\n",
      " [ 0  0  0 14  0  0  0  0  0  0]\n",
      " [ 0  0  0 13  0  0  0  0  0  0]\n",
      " [ 0  0  0 10  0  0  0  0  0  0]\n",
      " [ 0  0  0  9  0  0  0  0  0  0]\n",
      " [ 0  0  0  8  0  0  0  0  0  0]\n",
      " [ 0  0  0 10  0  0  0  0  0  0]]\n"
     ]
    }
   ],
   "source": [
    "pred = autoencoder['encoded']\n",
    "print pred\n",
    "correct_prediction = tf.equal(tf.argmax(pred, 1), tf.argmax(y, 1))\n",
    "print correct_prediction\n",
    "accuracy = tf.reduce_mean(tf.cast(correct_prediction, \"float\"))\n",
    "\n",
    "y_p = tf.argmax(pred, 1)\n",
    "test_arrays, test_label = mnist.test.next_batch(100)\n",
    "val_accuracy, y_pred = sess.run([accuracy, y_p], feed_dict={x:test_arrays, y:test_label})\n",
    "print \"validation accuracy:\", val_accuracy\n",
    "y_true = np.argmax(test_label,1)\n",
    "print \"Precision\", metrics.precision_score(y_true, y_pred,average='micro')\n",
    "print \"Recall\", metrics.recall_score(y_true, y_pred,average='micro')\n",
    "print \"f1_score\", metrics.f1_score(y_true, y_pred,average='micro')\n",
    "print \"confusion_matrix\"\n",
    "print metrics.confusion_matrix(y_true, y_pred)\n",
    "# fpr, tpr, tresholds = metrics.roc_curve(y_true, y_pred)\n"
   ]
  },
  {
   "cell_type": "code",
   "execution_count": null,
   "metadata": {
    "collapsed": true
   },
   "outputs": [],
   "source": []
  }
 ],
 "metadata": {
  "kernelspec": {
   "display_name": "Python 2",
   "language": "python",
   "name": "python2"
  },
  "language_info": {
   "codemirror_mode": {
    "name": "ipython",
    "version": 2
   },
   "file_extension": ".py",
   "mimetype": "text/x-python",
   "name": "python",
   "nbconvert_exporter": "python",
   "pygments_lexer": "ipython2",
   "version": "2.7.10"
  }
 },
 "nbformat": 4,
 "nbformat_minor": 0
}

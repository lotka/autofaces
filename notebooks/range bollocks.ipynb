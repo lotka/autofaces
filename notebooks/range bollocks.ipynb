{
 "cells": [
  {
   "cell_type": "code",
   "execution_count": 29,
   "metadata": {
    "collapsed": false
   },
   "outputs": [
    {
     "name": "stdout",
     "output_type": "stream",
     "text": [
      "2.0 8\n",
      "-2.0 \t-1.0 \t0.0 \t4.0 \t5.0 \t6.0 \t\n",
      "-1.0 \t-0.75 \t-0.5 \t0.5 \t0.75 \t1.0 \t\n",
      "-0.333 \t-0.167 \t0.0 \t0.667 \t0.833 \t1.0 \t\n"
     ]
    }
   ],
   "source": [
    "import numpy as np\n",
    "\n",
    "def pa(a):\n",
    "    for i in a:\n",
    "        print round(i,3),'\\t',\n",
    "    print\n",
    "\n",
    "data = np.array([-2,-1,0,4,5,6])\n",
    "range = data.max()-data.min()\n",
    "print (data.min() + range/2.0),range\n",
    "pa(data)\n",
    "pa( (data - (data.min() + range/2.0)) / (range / 2.0))\n",
    "pa(data/float(data.max()))"
   ]
  },
  {
   "cell_type": "code",
   "execution_count": 25,
   "metadata": {
    "collapsed": true
   },
   "outputs": [],
   "source": []
  },
  {
   "cell_type": "code",
   "execution_count": null,
   "metadata": {
    "collapsed": true
   },
   "outputs": [],
   "source": []
  }
 ],
 "metadata": {
  "kernelspec": {
   "display_name": "Python 2",
   "language": "python",
   "name": "python2"
  },
  "language_info": {
   "codemirror_mode": {
    "name": "ipython",
    "version": 2
   },
   "file_extension": ".py",
   "mimetype": "text/x-python",
   "name": "python",
   "nbconvert_exporter": "python",
   "pygments_lexer": "ipython2",
   "version": "2.7.10"
  }
 },
 "nbformat": 4,
 "nbformat_minor": 0
}

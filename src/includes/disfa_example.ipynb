{
 "cells": [
  {
   "cell_type": "code",
   "execution_count": 1,
   "metadata": {
    "collapsed": false
   },
   "outputs": [],
   "source": [
    "%matplotlib inline\n",
    "import matplotlib.pyplot as plt\n",
    "import data_array as data_array\n",
    "import disfa as disfa\n",
    "import numpy as np\n",
    "from scipy import ndimage\n",
    "import scipy"
   ]
  },
  {
   "cell_type": "code",
   "execution_count": 2,
   "metadata": {
    "collapsed": false
   },
   "outputs": [
    {
     "name": "stdout",
     "output_type": "stream",
     "text": [
      "[FileHDF5] read file /home/luka/Documents/DISFA/Labels/AUall/SN021_labels_AUall.mat\n"
     ]
    }
   ],
   "source": [
    "# use the first subject as example. all availabe subjects are stored in disfa.disfa_id_subj_all\n",
    "id_sub = 21\n",
    "# load all AU targets from subject 1\n",
    "targets = disfa.disfa['AUall'][id_sub][:]"
   ]
  },
  {
   "cell_type": "code",
   "execution_count": 3,
   "metadata": {
    "collapsed": false
   },
   "outputs": [
    {
     "data": {
      "text/plain": [
       "(4845, 12)"
      ]
     },
     "execution_count": 3,
     "metadata": {},
     "output_type": "execute_result"
    }
   ],
   "source": [
    "# targets contain 4845 frames and 12 AUs\n",
    "# see http://www.engr.du.edu/mmahoor/DISFAContent.htm for the description of the AUs, the order is ascending\n",
    "targets.shape"
   ]
  },
  {
   "cell_type": "code",
   "execution_count": 4,
   "metadata": {
    "collapsed": false
   },
   "outputs": [
    {
     "name": "stdout",
     "output_type": "stream",
     "text": [
      "[FileHDF5] read file /home/luka/Documents/DISFA/Features/images/SN021_features_images.mat\n"
     ]
    }
   ],
   "source": [
    "#load all images from subject 1\n",
    "images = disfa.disfa['images'][id_sub][:]"
   ]
  },
  {
   "cell_type": "code",
   "execution_count": 5,
   "metadata": {
    "collapsed": false
   },
   "outputs": [
    {
     "data": {
      "text/plain": [
       "(4845, 118, 128)"
      ]
     },
     "execution_count": 5,
     "metadata": {},
     "output_type": "execute_result"
    }
   ],
   "source": [
    "# images contain 4845 frames with images of size 128 x 118 (x and y axis are swapped)\n",
    "images.shape"
   ]
  },
  {
   "cell_type": "code",
   "execution_count": 7,
   "metadata": {
    "collapsed": false,
    "scrolled": false
   },
   "outputs": [
    {
     "name": "stdout",
     "output_type": "stream",
     "text": [
      "(118, 128)\n"
     ]
    },
    {
     "data": {
      "text/plain": [
       "<matplotlib.figure.Figure at 0x7f7c38848b90>"
      ]
     },
     "metadata": {},
     "output_type": "display_data"
    }
   ],
   "source": [
    "def show(images,i):\n",
    "    # print 21119-19380\n",
    "    plt.figure()\n",
    "    scale = 1.0\n",
    "    image = images[i,:,:]\n",
    "#     image = scipy.misc.imresize(image,[int(image.shape[1]*scale),int(image.shape[1]*scale)])\n",
    "    # print the AU annotations and plot the image of the first sample\n",
    "#     print('annotated AUs are {}'.format(targets[i,:]))\n",
    "#     x,y = image.shape\n",
    "#     left_crop = 0.0\n",
    "#     right_crop = 0.0\n",
    "#     top_crop = 0.0\n",
    "#     bottom_crop = 0.0\n",
    "#     l = int(0 + x*left_crop)\n",
    "#     r = int(x - x*right_crop)\n",
    "\n",
    "#     u = int(0 + y*top_crop)\n",
    "#     d = int(y - y*bottom_crop)\n",
    "#     image = image[u:d,l:r]\n",
    "#     plt.imshow(image, cmap='gray')\n",
    "#     plt.colorbar()\n",
    "    print image.shape\n",
    "#     plt.savefig('/home/luka/Desktop/1.png', bbox_inches='tight', pad_inches=0)\n",
    "#     plt.show()\n",
    "    return image/float(255)\n",
    "show(images,400)\n",
    "\n",
    "import sys,os\n",
    "sys.path.append('../../src')\n",
    "from helper import plot_images\n",
    "\n",
    "# import matplotlib.image as mpimg\n",
    "# img=mpimg.imread('/home/luka/Dropbox/1.png')\n",
    "# print img.shape\n",
    "# save = os.path.join(os.path.expanduser('~'),'Dropbox/msc_icl/541_Individual_Project/report_final/figures/')\n",
    "# save += 'seb_preproc.pdf'\n",
    "# names = ['Red Channel', 'Green Channel', 'Blue Channel', 'Resultant Image']\n",
    "# plot_images([img[:,:,0],img[:,:,1],img[:,:,2],show(images,400)],names=names,save=save,range=(0,1)\n",
    "#             ,cmap='gray')"
   ]
  },
  {
   "cell_type": "code",
   "execution_count": 8,
   "metadata": {
    "collapsed": false
   },
   "outputs": [
    {
     "name": "stdout",
     "output_type": "stream",
     "text": [
      "[FileHDF5] read file /home/luka/Documents/DISFA/Labels/AUall/SN001_labels_AUall.mat\n",
      "[FileHDF5] read file /home/luka/Documents/DISFA/Labels/AUall/SN002_labels_AUall.mat\n",
      "[FileHDF5] read file /home/luka/Documents/DISFA/Labels/AUall/SN003_labels_AUall.mat\n",
      "[FileHDF5] read file /home/luka/Documents/DISFA/Labels/AUall/SN004_labels_AUall.mat\n",
      "[FileHDF5] read file /home/luka/Documents/DISFA/Labels/AUall/SN005_labels_AUall.mat\n",
      "[FileHDF5] read file /home/luka/Documents/DISFA/Labels/AUall/SN006_labels_AUall.mat\n",
      "[FileHDF5] read file /home/luka/Documents/DISFA/Labels/AUall/SN007_labels_AUall.mat\n",
      "[FileHDF5] read file /home/luka/Documents/DISFA/Labels/AUall/SN008_labels_AUall.mat\n",
      "[FileHDF5] read file /home/luka/Documents/DISFA/Labels/AUall/SN009_labels_AUall.mat\n",
      "[FileHDF5] read file /home/luka/Documents/DISFA/Labels/AUall/SN010_labels_AUall.mat\n",
      "[FileHDF5] read file /home/luka/Documents/DISFA/Labels/AUall/SN011_labels_AUall.mat\n",
      "[FileHDF5] read file /home/luka/Documents/DISFA/Labels/AUall/SN012_labels_AUall.mat\n",
      "[FileHDF5] read file /home/luka/Documents/DISFA/Labels/AUall/SN013_labels_AUall.mat\n",
      "[FileHDF5] read file /home/luka/Documents/DISFA/Labels/AUall/SN016_labels_AUall.mat\n",
      "[FileHDF5] read file /home/luka/Documents/DISFA/Labels/AUall/SN017_labels_AUall.mat\n",
      "[FileHDF5] read file /home/luka/Documents/DISFA/Labels/AUall/SN018_labels_AUall.mat\n",
      "[FileHDF5] read file /home/luka/Documents/DISFA/Labels/AUall/SN021_labels_AUall.mat\n",
      "[FileHDF5] read file /home/luka/Documents/DISFA/Labels/AUall/SN023_labels_AUall.mat\n",
      "[FileHDF5] read file /home/luka/Documents/DISFA/Labels/AUall/SN024_labels_AUall.mat\n",
      "[FileHDF5] read file /home/luka/Documents/DISFA/Labels/AUall/SN025_labels_AUall.mat\n",
      "[FileHDF5] read file /home/luka/Documents/DISFA/Labels/AUall/SN026_labels_AUall.mat\n",
      "[FileHDF5] read file /home/luka/Documents/DISFA/Labels/AUall/SN027_labels_AUall.mat\n",
      "[FileHDF5] read file /home/luka/Documents/DISFA/Labels/AUall/SN028_labels_AUall.mat\n",
      "[FileHDF5] read file /home/luka/Documents/DISFA/Labels/AUall/SN029_labels_AUall.mat\n",
      "[FileHDF5] read file /home/luka/Documents/DISFA/Labels/AUall/SN030_labels_AUall.mat\n",
      "[FileHDF5] read file /home/luka/Documents/DISFA/Labels/AUall/SN031_labels_AUall.mat\n",
      "[FileHDF5] read file /home/luka/Documents/DISFA/Labels/AUall/SN032_labels_AUall.mat\n"
     ]
    }
   ],
   "source": [
    "# as convenience function to load data from all subjects, use:\n",
    "targets_all, id_array = data_array.IndicesCollection(disfa.disfa_ic_all).getitem(disfa.disfa['AUall'])"
   ]
  },
  {
   "cell_type": "code",
   "execution_count": 9,
   "metadata": {
    "collapsed": false
   },
   "outputs": [
    {
     "data": {
      "text/plain": [
       "array([1, 0])"
      ]
     },
     "execution_count": 9,
     "metadata": {},
     "output_type": "execute_result"
    }
   ],
   "source": [
    "# id_array contains the subjects and frame number of each sample:\n",
    "id_array[0,:]\n",
    "#this means the first sample is from subject 1 frame 0"
   ]
  },
  {
   "cell_type": "code",
   "execution_count": 28,
   "metadata": {
    "collapsed": false
   },
   "outputs": [
    {
     "name": "stdout",
     "output_type": "stream",
     "text": [
      "[FileHDF5] read file /home/luka/Documents/DISFA/Labels/AUall/SN001_labels_AUall.mat\n",
      "[FileHDF5] read file /home/luka/Documents/DISFA/Labels/AUall/SN003_labels_AUall.mat\n",
      "[FileHDF5] read file /home/luka/Documents/DISFA/Labels/AUall/SN005_labels_AUall.mat\n",
      "[FileHDF5] read file /home/luka/Documents/DISFA/Labels/AUall/SN007_labels_AUall.mat\n",
      "[FileHDF5] read file /home/luka/Documents/DISFA/Labels/AUall/SN009_labels_AUall.mat\n",
      "[FileHDF5] read file /home/luka/Documents/DISFA/Labels/AUall/SN011_labels_AUall.mat\n",
      "[FileHDF5] read file /home/luka/Documents/DISFA/Labels/AUall/SN013_labels_AUall.mat\n",
      "[FileHDF5] read file /home/luka/Documents/DISFA/Labels/AUall/SN017_labels_AUall.mat\n",
      "[FileHDF5] read file /home/luka/Documents/DISFA/Labels/AUall/SN021_labels_AUall.mat\n",
      "[FileHDF5] read file /home/luka/Documents/DISFA/Labels/AUall/SN024_labels_AUall.mat\n",
      "[FileHDF5] read file /home/luka/Documents/DISFA/Labels/AUall/SN026_labels_AUall.mat\n",
      "[FileHDF5] read file /home/luka/Documents/DISFA/Labels/AUall/SN028_labels_AUall.mat\n",
      "[FileHDF5] read file /home/luka/Documents/DISFA/Labels/AUall/SN030_labels_AUall.mat\n",
      "[FileHDF5] read file /home/luka/Documents/DISFA/Labels/AUall/SN032_labels_AUall.mat\n",
      "0 1616 [ 0.  0.  5.  0.  0.  0.  0.  0.  0.  0.  0.  0.]\n",
      "1 1617 [ 0.  0.  5.  0.  0.  0.  0.  0.  0.  0.  0.  0.]\n",
      "2 5774 [ 5.  5.  0.  4.  0.  0.  0.  0.  1.  0.  0.  3.]\n",
      "3 5775 [ 5.  5.  0.  5.  0.  0.  0.  0.  1.  0.  0.  3.]\n",
      "4 5776 [ 5.  5.  0.  5.  0.  0.  0.  0.  1.  0.  0.  3.]\n",
      "5 5777 [ 5.  4.  0.  4.  0.  0.  0.  0.  1.  0.  0.  4.]\n",
      "6 10422 [ 0.  0.  0.  0.  3.  2.  4.  0.  0.  0.  5.  2.]\n",
      "7 10423 [ 0.  0.  0.  0.  3.  2.  4.  0.  0.  0.  5.  2.]\n",
      "8 10424 [ 0.  0.  0.  0.  3.  2.  4.  0.  0.  0.  5.  2.]\n",
      "9 10425 [ 0.  0.  0.  0.  3.  2.  4.  0.  0.  0.  5.  3.]\n",
      "10 10426 [ 0.  0.  0.  0.  3.  2.  4.  0.  0.  0.  5.  3.]\n",
      "11 10427 [ 0.  0.  0.  0.  3.  2.  4.  0.  0.  0.  5.  3.]\n",
      "12 10428 [ 0.  0.  0.  0.  3.  2.  4.  0.  0.  0.  5.  3.]\n",
      "13 10429 [ 0.  0.  0.  0.  3.  2.  4.  0.  0.  0.  5.  3.]\n",
      "14 10430 [ 0.  0.  0.  0.  3.  2.  4.  0.  0.  0.  5.  3.]\n",
      "15 10431 [ 0.  0.  0.  0.  3.  2.  4.  0.  0.  0.  5.  3.]\n",
      "16 10432 [ 0.  0.  0.  0.  3.  2.  4.  0.  0.  0.  5.  3.]\n",
      "17 10433 [ 0.  0.  0.  0.  3.  2.  4.  0.  0.  0.  5.  3.]\n",
      "18 10434 [ 0.  0.  0.  0.  3.  2.  4.  0.  0.  0.  5.  3.]\n",
      "19 10435 [ 0.  0.  0.  0.  3.  2.  4.  0.  0.  0.  5.  3.]\n",
      "20 10436 [ 0.  0.  0.  0.  3.  2.  4.  0.  0.  0.  5.  3.]\n",
      "21 10437 [ 0.  0.  0.  0.  3.  2.  4.  0.  0.  0.  5.  3.]\n",
      "22 10438 [ 0.  0.  0.  0.  3.  2.  4.  0.  0.  0.  5.  3.]\n",
      "23 10439 [ 0.  0.  0.  0.  3.  2.  4.  0.  0.  0.  5.  3.]\n",
      "24 10440 [ 0.  0.  0.  0.  3.  2.  4.  0.  0.  0.  5.  3.]\n",
      "25 10441 [ 0.  0.  0.  0.  3.  2.  4.  0.  0.  0.  5.  3.]\n",
      "26 10442 [ 0.  0.  0.  0.  3.  2.  4.  0.  0.  0.  5.  3.]\n",
      "27 10443 [ 0.  0.  0.  0.  3.  2.  4.  0.  0.  0.  5.  3.]\n",
      "28 10444 [ 0.  0.  0.  0.  3.  2.  4.  0.  0.  0.  5.  3.]\n",
      "29 10445 [ 0.  0.  0.  0.  3.  2.  4.  0.  0.  0.  5.  3.]\n",
      "30 10446 [ 0.  0.  0.  0.  3.  2.  4.  0.  0.  0.  5.  3.]\n",
      "31 10447 [ 0.  0.  0.  0.  3.  2.  4.  0.  0.  0.  5.  3.]\n",
      "32 10448 [ 0.  0.  0.  0.  3.  2.  4.  0.  0.  0.  5.  3.]\n",
      "33 10449 [ 0.  0.  0.  0.  3.  2.  4.  0.  0.  0.  5.  3.]\n",
      "34 10450 [ 0.  0.  0.  0.  3.  2.  4.  0.  0.  0.  5.  3.]\n",
      "35 10451 [ 0.  0.  0.  0.  3.  2.  4.  0.  0.  0.  5.  3.]\n",
      "36 10452 [ 0.  0.  0.  0.  3.  2.  4.  0.  0.  0.  5.  3.]\n",
      "37 10453 [ 0.  0.  0.  0.  3.  2.  4.  0.  0.  0.  5.  3.]\n",
      "38 10454 [ 0.  0.  0.  0.  3.  2.  4.  0.  0.  0.  5.  3.]\n",
      "39 10455 [ 0.  0.  0.  0.  3.  2.  4.  0.  0.  0.  5.  3.]\n",
      "40 10456 [ 0.  0.  0.  0.  3.  2.  4.  0.  0.  0.  5.  3.]\n",
      "41 10457 [ 0.  0.  0.  0.  3.  2.  4.  0.  0.  0.  5.  3.]\n",
      "42 10458 [ 0.  0.  0.  0.  3.  2.  4.  0.  0.  0.  5.  2.]\n",
      "43 10459 [ 0.  0.  0.  0.  3.  2.  4.  0.  0.  0.  5.  2.]\n",
      "44 10460 [ 0.  0.  0.  0.  3.  2.  4.  0.  0.  0.  5.  2.]\n",
      "45 10461 [ 0.  0.  0.  0.  3.  2.  4.  0.  0.  0.  5.  2.]\n",
      "46 10462 [ 0.  0.  0.  0.  3.  1.  4.  0.  0.  0.  5.  2.]\n",
      "47 10463 [ 0.  0.  0.  0.  3.  1.  4.  0.  0.  0.  5.  2.]\n",
      "48 10464 [ 0.  0.  0.  0.  3.  1.  4.  0.  0.  0.  5.  2.]\n",
      "49 10465 [ 0.  0.  0.  0.  3.  1.  4.  0.  0.  0.  5.  2.]\n",
      "50 437 [ 0.  0.  0.  0.  0.  0.  0.  0.  0.  0.  0.  0.]\n",
      "51 438 [ 0.  0.  0.  0.  0.  0.  0.  0.  0.  0.  0.  0.]\n",
      "52 439 [ 0.  0.  0.  0.  0.  0.  0.  0.  0.  0.  0.  0.]\n",
      "53 440 [ 0.  0.  0.  0.  0.  0.  0.  0.  0.  0.  0.  0.]\n",
      "54 441 [ 0.  0.  0.  0.  0.  0.  0.  0.  0.  0.  0.  0.]\n",
      "55 442 [ 0.  0.  0.  0.  0.  0.  0.  0.  0.  0.  0.  0.]\n",
      "56 443 [ 0.  0.  0.  0.  0.  0.  0.  0.  0.  0.  0.  0.]\n",
      "57 444 [ 0.  0.  0.  0.  0.  0.  0.  0.  0.  0.  0.  0.]\n",
      "58 445 [ 0.  0.  0.  0.  0.  0.  0.  0.  0.  0.  0.  0.]\n",
      "59 446 [ 0.  0.  0.  0.  0.  0.  0.  0.  0.  0.  0.  0.]\n",
      "60 447 [ 0.  0.  0.  0.  0.  0.  0.  0.  0.  0.  0.  0.]\n",
      "61 448 [ 0.  0.  0.  0.  0.  0.  0.  0.  0.  0.  0.  0.]\n",
      "62 449 [ 0.  0.  0.  0.  0.  0.  0.  0.  0.  0.  0.  0.]\n",
      "63 450 [ 0.  0.  0.  0.  0.  0.  0.  0.  0.  0.  0.  0.]\n",
      "64 451 [ 0.  0.  0.  0.  0.  0.  0.  0.  0.  0.  0.  0.]\n",
      "65 452 [ 0.  0.  0.  0.  0.  0.  0.  0.  0.  0.  0.  0.]\n",
      "66 453 [ 0.  0.  0.  0.  0.  0.  0.  0.  0.  0.  0.  0.]\n",
      "67 454 [ 0.  0.  0.  0.  0.  0.  0.  0.  0.  0.  0.  0.]\n",
      "68 455 [ 0.  0.  0.  0.  0.  0.  0.  0.  0.  0.  0.  0.]\n",
      "69 456 [ 0.  0.  0.  0.  0.  0.  0.  0.  0.  0.  0.  0.]\n",
      "70 457 [ 0.  0.  0.  0.  0.  0.  0.  0.  0.  0.  0.  0.]\n",
      "71 458 [ 0.  0.  0.  0.  0.  0.  0.  0.  0.  0.  0.  0.]\n",
      "72 459 [ 0.  0.  0.  0.  0.  0.  0.  0.  0.  0.  0.  0.]\n",
      "73 460 [ 0.  0.  0.  0.  0.  0.  0.  0.  0.  0.  0.  0.]\n",
      "74 461 [ 0.  0.  0.  0.  0.  0.  0.  0.  0.  0.  0.  0.]\n",
      "75 462 [ 0.  0.  0.  0.  0.  0.  0.  0.  0.  0.  0.  0.]\n",
      "76 463 [ 0.  0.  0.  0.  0.  0.  0.  0.  0.  0.  0.  0.]\n",
      "77 464 [ 0.  0.  0.  0.  0.  0.  0.  0.  0.  0.  0.  0.]\n",
      "78 465 [ 0.  0.  0.  0.  0.  0.  0.  0.  0.  0.  0.  0.]\n",
      "79 466 [ 0.  0.  0.  0.  0.  0.  0.  0.  0.  0.  0.  0.]\n",
      "80 467 [ 0.  0.  0.  0.  0.  0.  0.  0.  0.  0.  0.  0.]\n",
      "81 468 [ 0.  0.  0.  0.  0.  0.  0.  0.  0.  0.  0.  0.]\n",
      "82 469 [ 0.  0.  0.  0.  0.  0.  0.  0.  0.  0.  0.  0.]\n",
      "83 470 [ 0.  0.  0.  0.  0.  0.  0.  0.  0.  0.  0.  0.]\n",
      "84 471 [ 0.  0.  0.  0.  0.  0.  0.  0.  0.  0.  0.  0.]\n",
      "85 472 [ 0.  0.  0.  0.  0.  0.  0.  0.  0.  0.  0.  0.]\n",
      "86 473 [ 0.  0.  0.  0.  0.  0.  0.  0.  0.  0.  0.  0.]\n",
      "87 474 [ 0.  0.  0.  0.  0.  0.  0.  0.  0.  0.  0.  0.]\n",
      "88 475 [ 0.  0.  0.  0.  0.  0.  0.  0.  0.  0.  0.  0.]\n",
      "89 476 [ 0.  0.  0.  0.  0.  0.  0.  0.  0.  0.  0.  0.]\n",
      "90 477 [ 0.  0.  0.  0.  0.  0.  0.  0.  0.  0.  0.  0.]\n",
      "91 478 [ 0.  0.  0.  0.  0.  0.  0.  0.  0.  0.  0.  0.]\n",
      "92 479 [ 0.  0.  0.  0.  0.  0.  0.  0.  0.  0.  0.  0.]\n",
      "93 480 [ 0.  0.  0.  0.  0.  0.  0.  0.  0.  0.  0.  0.]\n",
      "94 481 [ 0.  0.  0.  0.  0.  0.  0.  0.  0.  0.  0.  0.]\n",
      "95 482 [ 0.  0.  0.  0.  0.  0.  0.  0.  0.  0.  0.  0.]\n",
      "96 483 [ 0.  0.  0.  0.  0.  0.  0.  0.  0.  0.  0.  0.]\n",
      "97 484 [ 0.  0.  0.  0.  0.  0.  0.  0.  0.  0.  0.  0.]\n",
      "98 485 [ 0.  0.  0.  0.  0.  0.  0.  0.  0.  0.  0.  0.]\n",
      "99 486 [ 0.  0.  0.  0.  0.  0.  0.  0.  0.  0.  0.  0.]\n",
      "1616 , 1617 , 5774 , 5775 , 5776 , 5777 , 10422 , 10423 , 10424 , 10425 , 10426 , 10427 , 10428 , 10429 , 10430 , 10431 , 10432 , 10433 , 10434 , 10435 , 10436 , 10437 , 10438 , 10439 , 10440 , 10441 , 10442 , 10443 , 10444 , 10445 , 10446 , 10447 , 10448 , 10449 , 10450 , 10451 , 10452 , 10453 , 10454 , 10455 , 10456 , 10457 , 10458 , 10459 , 10460 , 10461 , 10462 , 10463 , 10464 , 10465 , 437 , 438 , 439 , 440 , 441 , 442 , 443 , 444 , 445 , 446 , 447 , 448 , 449 , 450 , 451 , 452 , 453 , 454 , 455 , 456 , 457 , 458 , 459 , 460 , 461 , 462 , 463 , 464 , 465 , 466 , 467 , 468 , 469 , 470 , 471 , 472 , 473 , 474 , 475 , 476 , 477 , 478 , 479 , 480 , 481 , 482 , 483 , 484 , 485 , 486 ,\n"
     ]
    }
   ],
   "source": [
    "subjects_set = [(i, np.s_[:]) for i in sorted(set([1,3,5,7,9,11,13,17,21,24,26,28,30,32]))]\n",
    "labels, ids = data_array.IndicesCollection(subjects_set).getitem(disfa.disfa['AUall'])\n",
    "big = []\n",
    "small = []\n",
    "for i,t in enumerate(targets_all):\n",
    "    if 5 in t and len(big) < 50:\n",
    "        big.append((i,t))\n",
    "    if np.array(t).sum() == 0 and len(small) < 50:\n",
    "        small.append((i,t))\n",
    "        \n",
    "interesting = big + small\n",
    "\n",
    "for i,e in enumerate(interesting):\n",
    "    print i,e[0],e[1]\n",
    "    \n",
    "for i,e in enumerate(interesting):\n",
    "    print e[0],',',  \n",
    "    \n",
    "hehe =  [1616 , 1617 , 5774 , 5775 , 5776 , 5777 , 10422 , 10423 , 10424 , 10425 , 10426 , 10427 , 10428 , 10429 , 10430 , 10431 , 10432 , 10433 , 10434 , 10435 , 10436 , 10437 , 10438 , 10439 , 10440 , 10441 , 10442 , 10443 , 10444 , 10445 , 10446 , 10447 , 10448 , 10449 , 10450 , 10451 , 10452 , 10453 , 10454 , 10455 , 10456 , 10457 , 10458 , 10459 , 10460 , 10461 , 10462 , 10463 , 10464 , 10465 , 437 , 438 , 439 , 440 , 441 , 442 , 443 , 444 , 445 , 446 , 447 , 448 , 449 , 450 , 451 , 452 , 453 , 454 , 455 , 456 , 457 , 458 , 459 , 460 , 461 , 462 , 463 , 464 , 465 , 466 , 467 , 468 , 469 , 470 , 471 , 472 , 473 , 474 , 475 , 476 , 477 , 478 , 479 , 480 , 481 , 482 , 483 , 484 , 485 , 486]"
   ]
  },
  {
   "cell_type": "code",
   "execution_count": 10,
   "metadata": {
    "collapsed": true
   },
   "outputs": [],
   "source": [
    "makingCrazyGif = False\n",
    "if makingCrazyGif:\n",
    "    from PIL import Image, ImageSequence\n",
    "    import sys, os\n",
    "    frames = [Image.fromarray((1-np.uint8(images[i]))*255) for i in range(1700,1900)]\n",
    "\n",
    "\n",
    "    from images2gif import writeGif\n",
    "    writeGif(os.path.basename('fuck.gif'), frames, duration=1.0/1000.0, dither=0)"
   ]
  },
  {
   "cell_type": "code",
   "execution_count": 30,
   "metadata": {
    "collapsed": false
   },
   "outputs": [],
   "source": []
  },
  {
   "cell_type": "code",
   "execution_count": null,
   "metadata": {
    "collapsed": true
   },
   "outputs": [],
   "source": []
  }
 ],
 "metadata": {
  "kernelspec": {
   "display_name": "Python 2",
   "language": "python",
   "name": "python2"
  },
  "language_info": {
   "codemirror_mode": {
    "name": "ipython",
    "version": 2
   },
   "file_extension": ".py",
   "mimetype": "text/x-python",
   "name": "python",
   "nbconvert_exporter": "python",
   "pygments_lexer": "ipython2",
   "version": "2.7.10"
  }
 },
 "nbformat": 4,
 "nbformat_minor": 0
}

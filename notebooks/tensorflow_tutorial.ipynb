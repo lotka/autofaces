{
 "cells": [
  {
   "cell_type": "code",
   "execution_count": 1,
   "metadata": {
    "collapsed": false
   },
   "outputs": [
    {
     "name": "stdout",
     "output_type": "stream",
     "text": [
      "Extracting MNIST_data/train-images-idx3-ubyte.gz\n",
      "Extracting MNIST_data/train-labels-idx1-ubyte.gz\n",
      "Extracting MNIST_data/t10k-images-idx3-ubyte.gz\n",
      "Extracting MNIST_data/t10k-labels-idx1-ubyte.gz\n"
     ]
    }
   ],
   "source": [
    "from tensorflow.examples.tutorials.mnist import input_data\n",
    "mnist = input_data.read_data_sets(\"MNIST_data/\", one_hot=True)"
   ]
  },
  {
   "cell_type": "code",
   "execution_count": 56,
   "metadata": {
    "collapsed": false
   },
   "outputs": [
    {
     "name": "stdout",
     "output_type": "stream",
     "text": [
      "labels : (55000, 10)\n",
      "images : (55000, 784)\n"
     ]
    }
   ],
   "source": [
    "import tensorflow as tf\n",
    "\n",
    "print 'labels :', mnist.train.labels.shape\n",
    "print 'images :', mnist.train.images.shape\n",
    "label_size =  mnist.train.labels.shape[1]\n",
    "image_size =  mnist.train.images.shape[1]\n",
    "datapoints =  mnist.train.images.shape[0]\n",
    "learning_rate = 0.01\n",
    "training_epochs = 25\n",
    "batch_size = 10\n",
    "display_step = 1"
   ]
  },
  {
   "cell_type": "code",
   "execution_count": 57,
   "metadata": {
    "collapsed": false
   },
   "outputs": [
    {
     "name": "stdout",
     "output_type": "stream",
     "text": [
      "Training ...\n"
     ]
    }
   ],
   "source": [
    "# Data placeholder\n",
    "x = tf.placeholder(tf.float32, [None, image_size])\n",
    "# Weights, all zero initially\n",
    "W = tf.Variable(tf.zeros([image_size, label_size]))\n",
    "# Bias', all zeros initially\n",
    "b = tf.Variable(tf.zeros([label_size]))\n",
    "# Model y = Wx + b\n",
    "y = tf.nn.softmax(tf.matmul(x, W) + b)\n",
    "\"\"\"\n",
    "Cost function : cross entropy\n",
    "\"\"\"\n",
    "y_ = tf.placeholder(tf.float32,[None,10])\n",
    "cross_entropy = -tf.reduce_sum(y_*tf.log(y))\n",
    "#\n",
    "train_step = tf.train.GradientDescentOptimizer(learning_rate).minimize(cross_entropy)\n",
    "init = tf.initialize_all_variables()\n",
    "sess = tf.Session()\n",
    "sess.run(init)\n",
    "print 'Training ...'\n",
    "total_batch = int(mnist.train.num_examples/batch_size)\n",
    "for i in range(total_batch):\n",
    "    batch_xs, batch_ys = mnist.train.next_batch(batch_size)\n",
    "    sess.run(train_step, feed_dict={x: batch_xs, y_: batch_ys})"
   ]
  },
  {
   "cell_type": "markdown",
   "metadata": {},
   "source": [
    "Cross entropy, the cost function for MNIST1\n",
    "\\begin{equation}\n",
    "H_{y'}(y) = -\\sum_i y'_i \\log(y_i)\n",
    "\\end{equation}"
   ]
  },
  {
   "cell_type": "code",
   "execution_count": 58,
   "metadata": {
    "collapsed": false
   },
   "outputs": [
    {
     "name": "stdout",
     "output_type": "stream",
     "text": [
      "0.903\n"
     ]
    }
   ],
   "source": [
    "correct_prediction = tf.equal(tf.argmax(y,1),tf.argmax(y_,1))\n",
    "accuracy = tf.reduce_mean(tf.cast(correct_prediction, tf.float32))\n",
    "print(sess.run(accuracy, feed_dict={x: mnist.test.images, y_: mnist.test.labels}))"
   ]
  },
  {
   "cell_type": "code",
   "execution_count": null,
   "metadata": {
    "collapsed": true
   },
   "outputs": [],
   "source": [
    "import matplotlib.pyplot as plt\n",
    "import numpy as np\n"
   ]
  }
 ],
 "metadata": {
  "kernelspec": {
   "display_name": "Python 2",
   "language": "python",
   "name": "python2"
  },
  "language_info": {
   "codemirror_mode": {
    "name": "ipython",
    "version": 2
   },
   "file_extension": ".py",
   "mimetype": "text/x-python",
   "name": "python",
   "nbconvert_exporter": "python",
   "pygments_lexer": "ipython2",
   "version": "2.7.10"
  }
 },
 "nbformat": 4,
 "nbformat_minor": 0
}

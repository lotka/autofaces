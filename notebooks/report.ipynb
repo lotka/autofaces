{
 "cells": [
  {
   "cell_type": "markdown",
   "metadata": {
    "collapsed": true
   },
   "source": [
    "## Meeting 1   31/03/15\n",
    "##### data mind dump\n",
    "exlucde\t1s from\ttext files, they are probably noise\n",
    "normalise images\n",
    "land mark annotation, given, ground truth, crop 200x200 roughly\n",
    "\n",
    "##### level 1 : au-autoencoder-disfa\n",
    "\n",
    "### todo:\n",
    "* practise on minst\n",
    "* menpo for normalisation, preprocess the data set, (remember normalisation = warping/affine/cropping shit)\n",
    "* get familiar with disfa and tensor flow make basic AUTOENCODER + AU NETWORK, simultaneous training would be nice and novel\n",
    "* cross validation, evalution, ground truth, \n",
    "\n",
    "### links:\n",
    "* https://en.wikipedia.org/wiki/F1_score , harmonic mean, confusion matrix\n",
    "* https://en.wikipedia.org/wiki/Receiver_operating_characteristic, activation functions, sigmoid, need to experiment and put them on various layers\n",
    "* http://nbviewer.jupyter.org/github/menpo/menpo-notebooks/blob/v0.6.2/notebooks/Images/Warping.ipynb"
   ]
  },
  {
   "cell_type": "markdown",
   "metadata": {},
   "source": [
    "# Useful\n",
    "* Unsupervised representation learning with deep convolutional generative adversarial networks, arvix:  http://arxiv.org/abs/1511.06434 and hn: https://news.ycombinator.com/item?id=11341706\n",
    "\n",
    "* Facial expression recognition with deep learning: http://www.cs.nott.ac.uk/~pszmv/Documents/WACV2016_shashank.pdf\n",
    "* Deep Learning theory: http://www.deeplearningbook.org/ (Part I and II explain the basics. Part III Autoencoders could be interesting for your project.)\n",
    "* In case that you decide to use TensorFlow, I would recommend to follow one of the tutorials: (Either MNIST or image recognition, since they are more related to our problem) https://www.tensorflow.org/versions/r0.7/tutorials/index.html\n",
    "\n",
    "# Maybe Useful\n",
    "* CUDA C Neural Net framework - http://pjreddie.com/darknet/\n",
    "* Hacker news - https://hn.algolia.com/?query=neural%20net&sort=byPopularity&prefix=false&page=0&dateRange=all&type=story\n",
    "* Use org mode - https://medium.com/@rtotheohan/emac-s-org-mode-will-improve-your-software-engineering-d7bc2f30a0#.75y3bzfku\n",
    "* wat even - http://jvns.ca/blog/2016/03/16/tcpdump-is-amazing/\n",
    "* neural stack machine - https://iamtrask.github.io/2016/02/25/deepminds-neural-stack-machine/?i=4"
   ]
  },
  {
   "cell_type": "code",
   "execution_count": null,
   "metadata": {
    "collapsed": true
   },
   "outputs": [],
   "source": []
  }
 ],
 "metadata": {
  "kernelspec": {
   "display_name": "Python 2",
   "language": "python",
   "name": "python2"
  },
  "language_info": {
   "codemirror_mode": {
    "name": "ipython",
    "version": 2
   },
   "file_extension": ".py",
   "mimetype": "text/x-python",
   "name": "python",
   "nbconvert_exporter": "python",
   "pygments_lexer": "ipython2",
   "version": "2.7.10"
  }
 },
 "nbformat": 4,
 "nbformat_minor": 0
}

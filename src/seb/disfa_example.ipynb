{
 "cells": [
  {
   "cell_type": "code",
   "execution_count": 13,
   "metadata": {
    "collapsed": false
   },
   "outputs": [],
   "source": [
    "%matplotlib inline\n",
    "import matplotlib.pyplot as plt\n",
    "import data_array as data_array\n",
    "import disfa as disfa\n",
    "import numpy as np\n",
    "from scipy import ndimage"
   ]
  },
  {
   "cell_type": "code",
   "execution_count": 10,
   "metadata": {
    "collapsed": false
   },
   "outputs": [
    {
     "name": "stdout",
     "output_type": "stream",
     "text": [
      "[FileHDF5] read file /home/luka/Documents/DISFA/Labels/AUall/SN001_labels_AUall.mat\n"
     ]
    }
   ],
   "source": [
    "# use the first subject as example. all availabe subjects are stored in disfa.disfa_id_subj_all\n",
    "id_sub = 1\n",
    "# load all AU targets from subject 1\n",
    "targets = disfa.disfa['AUall'][id_sub][:]"
   ]
  },
  {
   "cell_type": "code",
   "execution_count": 11,
   "metadata": {
    "collapsed": false
   },
   "outputs": [
    {
     "data": {
      "text/plain": [
       "(4845, 12)"
      ]
     },
     "execution_count": 11,
     "metadata": {},
     "output_type": "execute_result"
    }
   ],
   "source": [
    "# targets contain 4845 frames and 12 AUs\n",
    "# see http://www.engr.du.edu/mmahoor/DISFAContent.htm for the description of the AUs, the order is ascending\n",
    "targets.shape"
   ]
  },
  {
   "cell_type": "code",
   "execution_count": 22,
   "metadata": {
    "collapsed": false
   },
   "outputs": [
    {
     "name": "stdout",
     "output_type": "stream",
     "text": [
      "[FileHDF5] read file /home/luka/Documents/DISFA/Features/images/SN001_features_images.mat\n",
      "(4845, 48, 48)\n",
      "[FileHDF5] read file /home/luka/Documents/DISFA/Features/images/SN002_features_images.mat\n",
      "(9690, 48, 48)\n",
      "[FileHDF5] read file /home/luka/Documents/DISFA/Features/images/SN003_features_images.mat\n",
      "(14535, 48, 48)\n",
      "[FileHDF5] read file /home/luka/Documents/DISFA/Features/images/SN004_features_images.mat\n",
      "(19380, 48, 48)\n",
      "[FileHDF5] read file /home/luka/Documents/DISFA/Features/images/SN005_features_images.mat\n",
      "(24225, 48, 48)\n",
      "[FileHDF5] read file /home/luka/Documents/DISFA/Features/images/SN006_features_images.mat\n",
      "(29070, 48, 48)\n",
      "[FileHDF5] read file /home/luka/Documents/DISFA/Features/images/SN007_features_images.mat\n",
      "(33915, 48, 48)\n",
      "[FileHDF5] read file /home/luka/Documents/DISFA/Features/images/SN008_features_images.mat\n",
      "(38760, 48, 48)\n",
      "[FileHDF5] read file /home/luka/Documents/DISFA/Features/images/SN009_features_images.mat\n",
      "(43605, 48, 48)\n",
      "[FileHDF5] read file /home/luka/Documents/DISFA/Features/images/SN010_features_images.mat\n",
      "(48449, 48, 48)\n",
      "[FileHDF5] read file /home/luka/Documents/DISFA/Features/images/SN011_features_images.mat\n",
      "(53294, 48, 48)\n",
      "[FileHDF5] read file /home/luka/Documents/DISFA/Features/images/SN012_features_images.mat\n",
      "(58139, 48, 48)\n",
      "[FileHDF5] read file /home/luka/Documents/DISFA/Features/images/SN013_features_images.mat\n",
      "(62984, 48, 48)\n",
      "[FileHDF5] read file /home/luka/Documents/DISFA/Features/images/SN016_features_images.mat\n",
      "(67829, 48, 48)\n",
      "[FileHDF5] read file /home/luka/Documents/DISFA/Features/images/SN017_features_images.mat\n",
      "(72674, 48, 48)\n",
      "[FileHDF5] read file /home/luka/Documents/DISFA/Features/images/SN018_features_images.mat\n",
      "(77519, 48, 48)\n",
      "[FileHDF5] read file /home/luka/Documents/DISFA/Features/images/SN021_features_images.mat\n",
      "(82364, 48, 48)\n",
      "[FileHDF5] read file /home/luka/Documents/DISFA/Features/images/SN023_features_images.mat\n",
      "(87209, 48, 48)\n",
      "[FileHDF5] read file /home/luka/Documents/DISFA/Features/images/SN024_features_images.mat\n",
      "(92054, 48, 48)\n",
      "[FileHDF5] read file /home/luka/Documents/DISFA/Features/images/SN025_features_images.mat\n",
      "(96899, 48, 48)\n",
      "[FileHDF5] read file /home/luka/Documents/DISFA/Features/images/SN026_features_images.mat\n",
      "(101744, 48, 48)\n",
      "[FileHDF5] read file /home/luka/Documents/DISFA/Features/images/SN027_features_images.mat\n",
      "(106589, 48, 48)\n",
      "[FileHDF5] read file /home/luka/Documents/DISFA/Features/images/SN028_features_images.mat\n",
      "(111434, 48, 48)\n",
      "[FileHDF5] read file /home/luka/Documents/DISFA/Features/images/SN029_features_images.mat\n",
      "(116279, 48, 48)\n",
      "[FileHDF5] read file /home/luka/Documents/DISFA/Features/images/SN030_features_images.mat\n",
      "(121124, 48, 48)\n",
      "[FileHDF5] read file /home/luka/Documents/DISFA/Features/images/SN031_features_images.mat\n",
      "(125969, 48, 48)\n",
      "[FileHDF5] read file /home/luka/Documents/DISFA/Features/images/SN032_features_images.mat\n",
      "(130814, 48, 48)\n"
     ]
    }
   ],
   "source": [
    "# load all images from subject 1\n",
    "# images = disfa.disfa['images'][id_sub][:]\n",
    "# images = scipy.misc.imresize(images,[48,48])\n",
    "\n",
    "# load all subjects\n",
    "all_images = np.empty((0, 48, 48))\n",
    "for s in [1,2,3,4,5,6,7,8,9,10,11,12,13,16,17,18,21,23,24,25,26,27,28,29,30,31,32]:\n",
    "    images = disfa.disfa['images'][s][:]\n",
    "    resized_images = np.zeros((images.shape[0],48,48))\n",
    "    for i in xrange(images.shape[0]):\n",
    "        resized_images[i,:,:] = scipy.misc.imresize(images[i,:,:],[48,48])\n",
    "    del images\n",
    "    all_images = np.append(all_images,resized_images,axis=0)\n",
    "    print all_images.shape\n",
    "        "
   ]
  },
  {
   "cell_type": "code",
   "execution_count": null,
   "metadata": {
    "collapsed": false
   },
   "outputs": [],
   "source": [
    "# images contain 4845 frames with images of size 128 x 118 (x and y axis are swapped)\n",
    "images.shape"
   ]
  },
  {
   "cell_type": "code",
   "execution_count": null,
   "metadata": {
    "collapsed": false
   },
   "outputs": [],
   "source": [
    "# print the AU annotations and plot the image of the first sample\n",
    "print('annotated AUs are {}'.format(targets[0,:]))\n",
    "plt.imshow(images[0,:,:], cmap='gray')"
   ]
  },
  {
   "cell_type": "code",
   "execution_count": 6,
   "metadata": {
    "collapsed": false
   },
   "outputs": [
    {
     "name": "stdout",
     "output_type": "stream",
     "text": [
      " [FileHDF5] read file /home/luka/Documents/DISFA/Labels/AUall/SN001_labels_AUall.mat\n",
      "[FileHDF5] read file /home/luka/Documents/DISFA/Labels/AUall/SN002_labels_AUall.mat\n",
      "[FileHDF5] read file /home/luka/Documents/DISFA/Labels/AUall/SN003_labels_AUall.mat\n",
      "[FileHDF5] read file /home/luka/Documents/DISFA/Labels/AUall/SN004_labels_AUall.mat\n",
      "[FileHDF5] read file /home/luka/Documents/DISFA/Labels/AUall/SN005_labels_AUall.mat\n",
      "[FileHDF5] read file /home/luka/Documents/DISFA/Labels/AUall/SN006_labels_AUall.mat\n",
      "[FileHDF5] read file /home/luka/Documents/DISFA/Labels/AUall/SN007_labels_AUall.mat\n",
      "[FileHDF5] read file /home/luka/Documents/DISFA/Labels/AUall/SN008_labels_AUall.mat\n",
      "[FileHDF5] read file /home/luka/Documents/DISFA/Labels/AUall/SN009_labels_AUall.mat\n",
      "[FileHDF5] read file /home/luka/Documents/DISFA/Labels/AUall/SN010_labels_AUall.mat\n",
      "[FileHDF5] read file /home/luka/Documents/DISFA/Labels/AUall/SN011_labels_AUall.mat\n",
      "[FileHDF5] read file /home/luka/Documents/DISFA/Labels/AUall/SN012_labels_AUall.mat\n",
      "[FileHDF5] read file /home/luka/Documents/DISFA/Labels/AUall/SN013_labels_AUall.mat\n",
      "[FileHDF5] read file /home/luka/Documents/DISFA/Labels/AUall/SN016_labels_AUall.mat\n",
      "[FileHDF5] read file /home/luka/Documents/DISFA/Labels/AUall/SN017_labels_AUall.mat\n",
      "[FileHDF5] read file /home/luka/Documents/DISFA/Labels/AUall/SN018_labels_AUall.mat\n",
      "[FileHDF5] read file /home/luka/Documents/DISFA/Labels/AUall/SN021_labels_AUall.mat\n",
      "[FileHDF5] read file /home/luka/Documents/DISFA/Labels/AUall/SN023_labels_AUall.mat\n",
      "[FileHDF5] read file /home/luka/Documents/DISFA/Labels/AUall/SN024_labels_AUall.mat\n",
      "[FileHDF5] read file /home/luka/Documents/DISFA/Labels/AUall/SN025_labels_AUall.mat\n",
      "[FileHDF5] read file /home/luka/Documents/DISFA/Labels/AUall/SN026_labels_AUall.mat\n",
      "[FileHDF5] read file /home/luka/Documents/DISFA/Labels/AUall/SN027_labels_AUall.mat\n",
      "[FileHDF5] read file /home/luka/Documents/DISFA/Labels/AUall/SN028_labels_AUall.mat\n",
      "[FileHDF5] read file /home/luka/Documents/DISFA/Labels/AUall/SN029_labels_AUall.mat\n",
      "[FileHDF5] read file /home/luka/Documents/DISFA/Labels/AUall/SN030_labels_AUall.mat\n",
      "[FileHDF5] read file /home/luka/Documents/DISFA/Labels/AUall/SN031_labels_AUall.mat\n",
      "[FileHDF5] read file /home/luka/Documents/DISFA/Labels/AUall/SN032_labels_AUall.mat\n"
     ]
    }
   ],
   "source": [
    "# as convenience function to load data from all subjects, use:\n",
    "targets_all, id_array = data_array.IndicesCollection(disfa.disfa_ic_all).getitem(disfa.disfa['AUall'])"
   ]
  },
  {
   "cell_type": "code",
   "execution_count": null,
   "metadata": {
    "collapsed": false
   },
   "outputs": [],
   "source": [
    "# id_array contains the subjects and frame number of each sample:\n",
    "id_array[0,:]\n",
    "#this means the first sample is from subject 1 frame 0"
   ]
  },
  {
   "cell_type": "code",
   "execution_count": 7,
   "metadata": {
    "collapsed": false
   },
   "outputs": [
    {
     "name": "stdout",
     "output_type": "stream",
     "text": [
      "subject 2 frame 155\n",
      "[ 0.  0.  0.  0.  1.  0.  3.  0.  0.  0.  3.  2.]\n",
      "(130814, 12)\n"
     ]
    }
   ],
   "source": [
    "a = 5000\n",
    "print 'subject', id_array[a,0], 'frame', id_array[a,1]\n",
    "print targets_all[a]\n",
    "print targets_all.shape"
   ]
  },
  {
   "cell_type": "code",
   "execution_count": 33,
   "metadata": {
    "collapsed": false
   },
   "outputs": [
    {
     "ename": "KeyboardInterrupt",
     "evalue": "",
     "output_type": "error",
     "traceback": [
      "\u001b[1;31m---------------------------------------------------------------------------\u001b[0m",
      "\u001b[1;31mKeyboardInterrupt\u001b[0m                         Traceback (most recent call last)",
      "\u001b[1;32m<ipython-input-33-eadeadc95643>\u001b[0m in \u001b[0;36m<module>\u001b[1;34m()\u001b[0m\n\u001b[0;32m      1\u001b[0m \u001b[1;32mimport\u001b[0m \u001b[0msPickle\u001b[0m\u001b[1;33m\u001b[0m\u001b[0m\n\u001b[0;32m      2\u001b[0m \u001b[1;32mimport\u001b[0m \u001b[0mgzip\u001b[0m\u001b[1;33m\u001b[0m\u001b[0m\n\u001b[1;32m----> 3\u001b[1;33m \u001b[0msPickle\u001b[0m\u001b[1;33m.\u001b[0m\u001b[0ms_dump\u001b[0m\u001b[1;33m(\u001b[0m\u001b[0mall_images\u001b[0m\u001b[1;33m,\u001b[0m \u001b[0mgzip\u001b[0m\u001b[1;33m.\u001b[0m\u001b[0mopen\u001b[0m\u001b[1;33m(\u001b[0m \u001b[1;34m\"disfa_images.p\"\u001b[0m\u001b[1;33m,\u001b[0m \u001b[1;34m\"wb\"\u001b[0m \u001b[1;33m)\u001b[0m \u001b[1;33m)\u001b[0m\u001b[1;33m\u001b[0m\u001b[0m\n\u001b[0m\u001b[0;32m      4\u001b[0m \u001b[0msPickle\u001b[0m\u001b[1;33m.\u001b[0m\u001b[0ms_dump\u001b[0m\u001b[1;33m(\u001b[0m\u001b[1;33m(\u001b[0m\u001b[0mtargets_all\u001b[0m\u001b[1;33m,\u001b[0m\u001b[0mid_array\u001b[0m\u001b[1;33m)\u001b[0m\u001b[1;33m,\u001b[0m \u001b[0mgzip\u001b[0m\u001b[1;33m.\u001b[0m\u001b[0mopen\u001b[0m\u001b[1;33m(\u001b[0m \u001b[1;34m\"disfa_labels.p\"\u001b[0m\u001b[1;33m,\u001b[0m \u001b[1;34m\"wb\"\u001b[0m \u001b[1;33m)\u001b[0m \u001b[1;33m)\u001b[0m\u001b[1;33m\u001b[0m\u001b[0m\n",
      "\u001b[1;32m/home/luka/Dropbox/msc_icl/541_Individual_Project/src/seb/sPickle.py\u001b[0m in \u001b[0;36ms_dump\u001b[1;34m(iterable_to_pickle, file_obj)\u001b[0m\n\u001b[0;32m     21\u001b[0m   opened in write mode'''\n\u001b[0;32m     22\u001b[0m   \u001b[1;32mfor\u001b[0m \u001b[0melt\u001b[0m \u001b[1;32min\u001b[0m \u001b[0miterable_to_pickle\u001b[0m\u001b[1;33m:\u001b[0m\u001b[1;33m\u001b[0m\u001b[0m\n\u001b[1;32m---> 23\u001b[1;33m     \u001b[0ms_dump_elt\u001b[0m\u001b[1;33m(\u001b[0m\u001b[0melt\u001b[0m\u001b[1;33m,\u001b[0m \u001b[0mfile_obj\u001b[0m\u001b[1;33m)\u001b[0m\u001b[1;33m\u001b[0m\u001b[0m\n\u001b[0m\u001b[0;32m     24\u001b[0m \u001b[1;33m\u001b[0m\u001b[0m\n\u001b[0;32m     25\u001b[0m \u001b[1;33m\u001b[0m\u001b[0m\n",
      "\u001b[1;32m/home/luka/Dropbox/msc_icl/541_Individual_Project/src/seb/sPickle.py\u001b[0m in \u001b[0;36ms_dump_elt\u001b[1;34m(elt_to_pickle, file_obj)\u001b[0m\n\u001b[0;32m     27\u001b[0m   \u001b[1;34m'''dumps one element to file_obj, a file opened in write mode'''\u001b[0m\u001b[1;33m\u001b[0m\u001b[0m\n\u001b[0;32m     28\u001b[0m   \u001b[0mpickled_elt_str\u001b[0m \u001b[1;33m=\u001b[0m \u001b[0mdumps\u001b[0m\u001b[1;33m(\u001b[0m\u001b[0melt_to_pickle\u001b[0m\u001b[1;33m)\u001b[0m\u001b[1;33m\u001b[0m\u001b[0m\n\u001b[1;32m---> 29\u001b[1;33m   \u001b[0mfile_obj\u001b[0m\u001b[1;33m.\u001b[0m\u001b[0mwrite\u001b[0m\u001b[1;33m(\u001b[0m\u001b[0mpickled_elt_str\u001b[0m\u001b[1;33m)\u001b[0m\u001b[1;33m\u001b[0m\u001b[0m\n\u001b[0m\u001b[0;32m     30\u001b[0m   \u001b[1;31m# record separator is a blank line\u001b[0m\u001b[1;33m\u001b[0m\u001b[1;33m\u001b[0m\u001b[0m\n\u001b[0;32m     31\u001b[0m   \u001b[1;31m# (since pickled_elt_str might contain its own newlines)\u001b[0m\u001b[1;33m\u001b[0m\u001b[1;33m\u001b[0m\u001b[0m\n",
      "\u001b[1;32m/usr/lib/python2.7/gzip.pyc\u001b[0m in \u001b[0;36mwrite\u001b[1;34m(self, data)\u001b[0m\n\u001b[0;32m    239\u001b[0m \u001b[1;33m\u001b[0m\u001b[0m\n\u001b[0;32m    240\u001b[0m         \u001b[1;32mif\u001b[0m \u001b[0mlen\u001b[0m\u001b[1;33m(\u001b[0m\u001b[0mdata\u001b[0m\u001b[1;33m)\u001b[0m \u001b[1;33m>\u001b[0m \u001b[1;36m0\u001b[0m\u001b[1;33m:\u001b[0m\u001b[1;33m\u001b[0m\u001b[0m\n\u001b[1;32m--> 241\u001b[1;33m             \u001b[0mself\u001b[0m\u001b[1;33m.\u001b[0m\u001b[0mfileobj\u001b[0m\u001b[1;33m.\u001b[0m\u001b[0mwrite\u001b[0m\u001b[1;33m(\u001b[0m\u001b[0mself\u001b[0m\u001b[1;33m.\u001b[0m\u001b[0mcompress\u001b[0m\u001b[1;33m.\u001b[0m\u001b[0mcompress\u001b[0m\u001b[1;33m(\u001b[0m\u001b[0mdata\u001b[0m\u001b[1;33m)\u001b[0m\u001b[1;33m)\u001b[0m\u001b[1;33m\u001b[0m\u001b[0m\n\u001b[0m\u001b[0;32m    242\u001b[0m             \u001b[0mself\u001b[0m\u001b[1;33m.\u001b[0m\u001b[0msize\u001b[0m \u001b[1;33m+=\u001b[0m \u001b[0mlen\u001b[0m\u001b[1;33m(\u001b[0m\u001b[0mdata\u001b[0m\u001b[1;33m)\u001b[0m\u001b[1;33m\u001b[0m\u001b[0m\n\u001b[0;32m    243\u001b[0m             \u001b[0mself\u001b[0m\u001b[1;33m.\u001b[0m\u001b[0mcrc\u001b[0m \u001b[1;33m=\u001b[0m \u001b[0mzlib\u001b[0m\u001b[1;33m.\u001b[0m\u001b[0mcrc32\u001b[0m\u001b[1;33m(\u001b[0m\u001b[0mdata\u001b[0m\u001b[1;33m,\u001b[0m \u001b[0mself\u001b[0m\u001b[1;33m.\u001b[0m\u001b[0mcrc\u001b[0m\u001b[1;33m)\u001b[0m \u001b[1;33m&\u001b[0m \u001b[1;36m0xffffffffL\u001b[0m\u001b[1;33m\u001b[0m\u001b[0m\n",
      "\u001b[1;31mKeyboardInterrupt\u001b[0m: "
     ]
    }
   ],
   "source": [
    "import sPickle\n",
    "import gzip\n",
    "sPickle.s_dump(all_images, gzip.open( \"disfa_images.p\", \"wb\" ) )\n",
    "sPickle.s_dump((targets_all,id_array), gzip.open( \"disfa_labels.p\", \"wb\" ) )"
   ]
  },
  {
   "cell_type": "code",
   "execution_count": null,
   "metadata": {
    "collapsed": true
   },
   "outputs": [],
   "source": [
    "print 'done!'"
   ]
  },
  {
   "cell_type": "code",
   "execution_count": null,
   "metadata": {
    "collapsed": true
   },
   "outputs": [],
   "source": [
    "import pickle\n",
    "import gzip\n",
    "\n",
    "#store the object\n",
    "myObject = {'a':'blah','b':range(10)}\n",
    "f = gzip.open('testPickleFile.pklz','wb')\n",
    "pickle.dump(myObject,f)\n",
    "f.close()\n",
    "\n",
    "#restore the object\n",
    "f = gzip.open('testPickleFile.pklz','rb')\n",
    "myNewObject = pickle.load(f)\n",
    "f.close()\n",
    "\n",
    "print myObject\n",
    "print myNewObject"
   ]
  }
 ],
 "metadata": {
  "kernelspec": {
   "display_name": "Python 2",
   "language": "python",
   "name": "python2"
  },
  "language_info": {
   "codemirror_mode": {
    "name": "ipython",
    "version": 2
   },
   "file_extension": ".py",
   "mimetype": "text/x-python",
   "name": "python",
   "nbconvert_exporter": "python",
   "pygments_lexer": "ipython2",
   "version": "2.7.10"
  }
 },
 "nbformat": 4,
 "nbformat_minor": 0
}

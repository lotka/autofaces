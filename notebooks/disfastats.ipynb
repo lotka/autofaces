{
 "cells": [
  {
   "cell_type": "markdown",
   "metadata": {},
   "source": [
    "This notebook tries to do some analysis of the disfa data set to get a better insights into how train a network on it."
   ]
  },
  {
   "cell_type": "code",
   "execution_count": 1,
   "metadata": {
    "collapsed": false
   },
   "outputs": [
    {
     "name": "stdout",
     "output_type": "stream",
     "text": [
      "[FileHDF5] read file /home/luka/Documents/DISFA/Labels/AUall/SN001_labels_AUall.mat\n",
      "[FileHDF5] read file /home/luka/Documents/DISFA/Labels/AUall/SN002_labels_AUall.mat\n",
      "[FileHDF5] read file /home/luka/Documents/DISFA/Labels/AUall/SN003_labels_AUall.mat\n",
      "[FileHDF5] read file /home/luka/Documents/DISFA/Labels/AUall/SN004_labels_AUall.mat\n",
      "[FileHDF5] read file /home/luka/Documents/DISFA/Labels/AUall/SN005_labels_AUall.mat\n",
      "[FileHDF5] read file /home/luka/Documents/DISFA/Labels/AUall/SN006_labels_AUall.mat\n",
      "[FileHDF5] read file /home/luka/Documents/DISFA/Labels/AUall/SN007_labels_AUall.mat\n",
      "[FileHDF5] read file /home/luka/Documents/DISFA/Labels/AUall/SN008_labels_AUall.mat\n",
      "[FileHDF5] read file /home/luka/Documents/DISFA/Labels/AUall/SN009_labels_AUall.mat\n",
      "[FileHDF5] read file /home/luka/Documents/DISFA/Labels/AUall/SN010_labels_AUall.mat\n",
      "[FileHDF5] read file /home/luka/Documents/DISFA/Labels/AUall/SN011_labels_AUall.mat\n",
      "[FileHDF5] read file /home/luka/Documents/DISFA/Labels/AUall/SN012_labels_AUall.mat\n",
      "[FileHDF5] read file /home/luka/Documents/DISFA/Labels/AUall/SN013_labels_AUall.mat\n",
      "[FileHDF5] read file /home/luka/Documents/DISFA/Labels/AUall/SN016_labels_AUall.mat\n",
      "[FileHDF5] read file /home/luka/Documents/DISFA/Labels/AUall/SN017_labels_AUall.mat\n",
      "[FileHDF5] read file /home/luka/Documents/DISFA/Labels/AUall/SN018_labels_AUall.mat\n",
      "[FileHDF5] read file /home/luka/Documents/DISFA/Labels/AUall/SN021_labels_AUall.mat\n",
      "[FileHDF5] read file /home/luka/Documents/DISFA/Labels/AUall/SN023_labels_AUall.mat\n",
      "[FileHDF5] read file /home/luka/Documents/DISFA/Labels/AUall/SN024_labels_AUall.mat\n",
      "[FileHDF5] read file /home/luka/Documents/DISFA/Labels/AUall/SN025_labels_AUall.mat\n",
      "[FileHDF5] read file /home/luka/Documents/DISFA/Labels/AUall/SN026_labels_AUall.mat\n",
      "[FileHDF5] read file /home/luka/Documents/DISFA/Labels/AUall/SN027_labels_AUall.mat\n",
      "[FileHDF5] read file /home/luka/Documents/DISFA/Labels/AUall/SN028_labels_AUall.mat\n",
      "[FileHDF5] read file /home/luka/Documents/DISFA/Labels/AUall/SN029_labels_AUall.mat\n",
      "[FileHDF5] read file /home/luka/Documents/DISFA/Labels/AUall/SN030_labels_AUall.mat\n",
      "[FileHDF5] read file /home/luka/Documents/DISFA/Labels/AUall/SN031_labels_AUall.mat\n",
      "[FileHDF5] read file /home/luka/Documents/DISFA/Labels/AUall/SN032_labels_AUall.mat\n"
     ]
    }
   ],
   "source": [
    "import seb.disfa\n",
    "subjects = [1,2,3,4,5,6,7,8,9,10,11,12,13,16,17,18,21,23,24,25,26,27,28,29,30,31,32]\n",
    "labels = []\n",
    "for s in subjects:\n",
    "    labels.append(seb.disfa.disfa['AUall'][s][:])"
   ]
  },
  {
   "cell_type": "code",
   "execution_count": null,
   "metadata": {
    "collapsed": true
   },
   "outputs": [],
   "source": []
  },
  {
   "cell_type": "code",
   "execution_count": 4,
   "metadata": {
    "collapsed": false
   },
   "outputs": [],
   "source": [
    "import matplotlib\n",
    "# matplotlib.use('Agg')\n",
    "import matplotlib.pyplot as plt\n",
    "import numpy as np\n",
    "import matplotlib.cm as cm\n",
    "from os.path import join\n",
    "font = {'family' : 'serif',\n",
    "        'size'   : 12}\n",
    "matplotlib.rc('font', **font)\n",
    "# plt.style.use('/home/luka/Dropbox/msc_icl/541_Individual_Project/src/pub.mplstyle')\n",
    "# %matplotlib inline\n",
    "fig, ax = plt.subplots()\n",
    "\n",
    "\n",
    "\"\"\"\n",
    "\"\"\"\n",
    "\n",
    "offset = -.5\n",
    "v = 5.0\n",
    "d = 1.0\n",
    "b = np.array([0,1,2,3,4,5],dtype=int)\n",
    "colors = cm.rainbow(np.linspace(0, 1, len(subjects)))\n",
    "for col,s in zip(colors,xrange(len(subjects))):\n",
    "#     print np.histogram(labels[s].sum(axis=1), bins=np.arange(5,step=1), normed=True)\n",
    "    count = [0,0,0,0,0,0]\n",
    "    N,C = labels[s].shape\n",
    "    for i in xrange(N):\n",
    "        c = labels[s][i,:].max()\n",
    "        count[int(c)] += 1\n",
    "    a = (np.array(count)/float(N)).round(2)\n",
    "    ax.bar(b+d*float(s)/float(len(subjects))+offset,100*a,label=str(s),alpha=0.5,width=d/float(len(subjects)),color=col)\n",
    "ax.set_xlim(-0.5,5.5)\n",
    "\n",
    "\"\"\"\n",
    "\"\"\"\n",
    "\n",
    "ax.grid(True)\n",
    "    \n",
    "plt.tick_params(\n",
    "    axis='x',          # changes apply to the x-axis\n",
    "    which='major',      # both major and minor ticks are affected\n",
    "    top='off',         # ticks along the top edge are off\n",
    "    labelbottom='on') # labels along the bottom edge are off\n",
    "\n",
    "ax.set_xticks(b, minor=False)\n",
    "ax.set_xticks(b+0.5, minor=True)\n",
    "ax.xaxis.grid(True, which='major', color='b', linestyle='.')\n",
    "ax.xaxis.grid(True, which='minor',linestyle='-')\n",
    "ax.yaxis.grid(False, which='major')\n",
    "ax.yaxis.grid(False, which='minor')\n",
    "\n",
    "ticklines = ax.get_xticklines()# + ax.get_yticklines()\n",
    "gridlines = ax.get_xgridlines()# + ax.get_ygridlines()\n",
    "ticklabels = ax.get_xticklabels()# + ax.get_yticklabels()\n",
    "\n",
    "# for line in gridlines:\n",
    "#     line.set_linestyle('-')\n",
    "plt.xlabel('Maximum AU Intensity in Label')\n",
    "plt.ylabel('Percentage of Labels')\n",
    "plt.legend(ncol=3,loc=(1.05,0.13),title='Subject')\n",
    "name = 'maximum_label_intensity_disfa'\n",
    "name = join('../graphs/',name)\n",
    "# latexify()\n",
    "plt.tight_layout()\n",
    "plt.savefig(name + '.pdf',bbox_inches='tight')\n",
    "plt.savefig(name + '.png',dpi=300,bbox_inches='tight')\n",
    "plt.show()\n",
    "plt.close('all')\n",
    "# from matplotlib.backends.backend_pdf import PdfPages\n",
    "# pp = PdfPages('foo.pdf')\n",
    "# pp.savefig(fig)\n",
    "# pp.close()"
   ]
  },
  {
   "cell_type": "code",
   "execution_count": 3,
   "metadata": {
    "collapsed": false
   },
   "outputs": [
    {
     "name": "stdout",
     "output_type": "stream",
     "text": [
      "[u'dark_background', u'bmh', u'grayscale', u'ggplot', u'fivethirtyeight']\n"
     ]
    }
   ],
   "source": [
    "print(plt.style.available)"
   ]
  },
  {
   "cell_type": "code",
   "execution_count": null,
   "metadata": {
    "collapsed": true
   },
   "outputs": [],
   "source": []
  }
 ],
 "metadata": {
  "kernelspec": {
   "display_name": "Python 2",
   "language": "python",
   "name": "python2"
  },
  "language_info": {
   "codemirror_mode": {
    "name": "ipython",
    "version": 2
   },
   "file_extension": ".py",
   "mimetype": "text/x-python",
   "name": "python",
   "nbconvert_exporter": "python",
   "pygments_lexer": "ipython2",
   "version": "2.7.10"
  }
 },
 "nbformat": 4,
 "nbformat_minor": 0
}

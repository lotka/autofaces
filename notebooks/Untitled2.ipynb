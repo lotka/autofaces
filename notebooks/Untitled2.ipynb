{
 "cells": [
  {
   "cell_type": "code",
   "execution_count": 1,
   "metadata": {
    "collapsed": false
   },
   "outputs": [
    {
     "name": "stdout",
     "output_type": "stream",
     "text": [
      "Shut the fuck up\n"
     ]
    }
   ],
   "source": [
    "print 'Shut the fuck up'"
   ]
  },
  {
   "cell_type": "code",
   "execution_count": 11,
   "metadata": {
    "collapsed": false
   },
   "outputs": [
    {
     "data": {
      "text/plain": [
       "[{'a': ['autoencoder', 'decoder', 'somenetwork'], 'b': 'X'},\n",
       " {'a': ['autoencoder', 'decoder', 'somenetwork'], 'b': 'Y'},\n",
       " {'a': ['autoencoder', 'decoder', 'somenetwork2'], 'b': 'X'},\n",
       " {'a': ['autoencoder', 'decoder', 'somenetwork2'], 'b': 'Y'}]"
      ]
     },
     "execution_count": 11,
     "metadata": {},
     "output_type": "execute_result"
    }
   ],
   "source": [
    "import numpy as np\n",
    "from itertools import product\n",
    "\n",
    "def get_all_experiments(bounds):\n",
    "    \"\"\"\n",
    "    This function returns a list of overwrite dictionaries for use\n",
    "    in the dragonfly brain\n",
    "    Args:\n",
    "        bounds (dict) : this defines the parameters you want to search over\n",
    "        example:\n",
    "        >>> bounds = {'type' : ['a','b'], 'value' : np.linspace(0,1,3)}\n",
    "        >>> get_all_experiments(bounds)\n",
    "        [{'type': 'a', 'value': 0.0},\n",
    "         {'type': 'a', 'value': 0.5},\n",
    "         {'type': 'a', 'value': 1.0},\n",
    "         {'type': 'b', 'value': 0.0},\n",
    "         {'type': 'b', 'value': 0.5},\n",
    "         {'type': 'b', 'value': 1.0}]\n",
    "\n",
    "    Return (dict) : list of overwrite dictionaries, as in example\n",
    "\n",
    "    \"\"\"\n",
    "    ranges=[]\n",
    "    for v in bounds.values():\n",
    "        ranges.append(v)\n",
    "\n",
    "    # List to store all the combinations\n",
    "    overwrite_dict_list = []\n",
    "    for element in product(*ranges):\n",
    "        d = {}\n",
    "        for i,key in enumerate(bounds.keys()):\n",
    "            d[key] = element[i]\n",
    "        overwrite_dict_list.append(d)\n",
    "    return overwrite_dict_list\n",
    "\n",
    "\n",
    "bounds = {}\n",
    "bounds[\"autoencoder:decoder:somenetwork\"]                = [['autoencoder','decoder','somenetwork'],['autoencoder','decoder','somenetwork2']]\n",
    "bounds[\"b\"] = ['X','Y']\n",
    "\n",
    "get_all_experiments(bounds)"
   ]
  },
  {
   "cell_type": "code",
   "execution_count": 43,
   "metadata": {
    "collapsed": false
   },
   "outputs": [
    {
     "name": "stdout",
     "output_type": "stream",
     "text": [
      "['autoencoder', 'decoder', 'somenetwork']\n",
      "{'autoencoder': {'decoder': {'somenetwork': 5, 'other': -2}}}\n",
      "{'autoencoder': {'decoder': {'somenetwork': 100, 'other': -2}}}\n"
     ]
    }
   ],
   "source": [
    "config = { 'autoencoder' : { 'decoder' : { 'somenetwork' : 4, 'other' : -2 } } }\n",
    "\n",
    "keys = \"autoencoder:decoder:somenetwork\".split(':')\n",
    "print keys\n",
    "\n",
    "\n",
    "def nested_dict_read(keys,dictionary):\n",
    "    val = dictionary\n",
    "    for key in keys:\n",
    "        if type(val) == type({}):\n",
    "            val = val[key]\n",
    "    return val\n",
    "\n",
    "def nested_dict_write(keys,dictionary,newval):\n",
    "    val = dictionary\n",
    "    for key in keys[:-1]:\n",
    "        if type(val) == type({}):\n",
    "            val = val[key]\n",
    "    val[keys[-1]] = newval\n",
    "\n",
    "\n",
    "nested_set(config,keys,5)\n",
    "print config\n",
    "nested_dict_write(keys,config,100)\n",
    "print config"
   ]
  },
  {
   "cell_type": "code",
   "execution_count": null,
   "metadata": {
    "collapsed": true
   },
   "outputs": [],
   "source": []
  }
 ],
 "metadata": {
  "kernelspec": {
   "display_name": "Python 2",
   "language": "python",
   "name": "python2"
  },
  "language_info": {
   "codemirror_mode": {
    "name": "ipython",
    "version": 2
   },
   "file_extension": ".py",
   "mimetype": "text/x-python",
   "name": "python",
   "nbconvert_exporter": "python",
   "pygments_lexer": "ipython2",
   "version": "2.7.10"
  }
 },
 "nbformat": 4,
 "nbformat_minor": 0
}

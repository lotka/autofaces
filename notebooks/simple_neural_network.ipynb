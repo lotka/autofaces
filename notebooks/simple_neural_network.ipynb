{
 "cells": [
  {
   "cell_type": "code",
   "execution_count": 4,
   "metadata": {
    "collapsed": false
   },
   "outputs": [
    {
     "data": {
      "image/png": "[encoded data removed]",
      "text/plain": [
       "<matplotlib.figure.Figure at 0x7f3776b7a050>"
      ]
     },
     "metadata": {},
     "output_type": "display_data"
    }
   ],
   "source": [
    "\"\"\"\n",
    "Author: Luka Milic\n",
    "Date: 23/03/2015\n",
    "Aim: 1. Learn about how the simplest neural networks function\n",
    "     2. Make really accessible code which doesn't particularly run fast\n",
    "     3. Improve the readability of my ipython notebooks\n",
    "\"\"\"\n",
    "import numpy as np\n",
    "import matplotlib.pyplot as plt\n",
    "% matplotlib inline\n",
    "\n",
    "\"\"\"\n",
    "Basic class to hold a pecptron function and a plotting facility\n",
    "\"\"\"\n",
    "class Perceptron:\n",
    "    \"\"\"\n",
    "    Choose which type of perceptron to construct\n",
    "    \"\"\"\n",
    "    def __init__(self,type,n_forward_connections):\n",
    "        self.type = 0\n",
    "        if(type == 'sigmoid'):\n",
    "            self.type = 1\n",
    "        weights = np.ones(n_forward_connections)\n",
    "    \"\"\"\n",
    "    Use the perceptron\n",
    "    \"\"\"\n",
    "    def input(self,x):\n",
    "        if(self.type == 1):\n",
    "            return 1.0/(1.0+np.exp(-x))\n",
    "        else:\n",
    "            return 0\n",
    "    \"\"\"\n",
    "    Make an illustrative plot of the perceptrons output\n",
    "    \"\"\"\n",
    "    def plot(self,N):\n",
    "        x = np.linspace(-10,10,N)\n",
    "        y = self.input(x)\n",
    "        plt.plot(x,y)\n",
    "        plt.show()\n",
    "        \n",
    "class PerceptronNetwork:\n",
    "    \"\"\"\n",
    "    Construct a network, with a toplogy of the form [1,2,3,4,5]\n",
    "    each number tells you how many perceptrons to put in that layer\n",
    "    you can also speicify the type\n",
    "    \"\"\"\n",
    "    def __init__(self,topology,type):\n",
    "        self.network = []\n",
    "        for n in topology:\n",
    "            self.network.append([])\n",
    "            for i in xrange(n):\n",
    "                self.network[-1].append(Perceptron('sigmoid',2))\n",
    "\n",
    "p = Perceptron('sigmoid',2)\n",
    "p.plot(100)\n",
    "n = PerceptronNetwork([1,1,1,1],'sigmoid')"
   ]
  },
  {
   "cell_type": "code",
   "execution_count": null,
   "metadata": {
    "collapsed": true
   },
   "outputs": [],
   "source": []
  }
 ],
 "metadata": {
  "kernelspec": {
   "display_name": "Python 2",
   "language": "python",
   "name": "python2"
  },
  "language_info": {
   "codemirror_mode": {
    "name": "ipython",
    "version": 2
   },
   "file_extension": ".py",
   "mimetype": "text/x-python",
   "name": "python",
   "nbconvert_exporter": "python",
   "pygments_lexer": "ipython2",
   "version": "2.7.10"
  }
 },
 "nbformat": 4,
 "nbformat_minor": 0
}

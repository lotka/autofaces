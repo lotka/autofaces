{
 "cells": [
  {
   "cell_type": "code",
   "execution_count": 7,
   "metadata": {
    "collapsed": false
   },
   "outputs": [
    {
     "name": "stdout",
     "output_type": "stream",
     "text": [
      "Done.\n",
      "auto\n",
      "2016_08_02 3 none contrast linear\n",
      "50\n",
      "0.6582386793 0.1883119707 0.2010517393  0.6493192284 0.1883119707 0.1967612789\n",
      "\n",
      "2016_08_02 4 [-1,1] contrast linear\n",
      "50\n",
      "0.4989071315 0.1975197149 0.1027990031  0.5166396005 0.195869563 0.0981057993\n",
      "\n",
      "2016_08_02 5 none face linear\n",
      "50\n",
      "0.4263762355 0.1938026864 0.0721370891  0.4291284451 0.1962422088 0.0653573224\n",
      "\n",
      "2016_08_02 6 [-1,1] face linear\n",
      "50\n",
      "0.4897492681 0.1883119707 0.0967395072  0.4983879222 0.1969207313 0.089080141\n",
      "\n",
      "2016_08_02 7 none none linear\n",
      "50\n",
      "0.5277579574 0.1883119707 0.1087732702  0.4535137027 0.1883119707 0.0939788881\n",
      "\n",
      "class\n",
      "2016_08_02 3 none none sigmoid\n",
      "250\n",
      "0.622136705 0.2781229782 0.1838976158  0.7320544107 0.3511639325 0.1839024508\n",
      "\n",
      "2016_08_02 4 [-1,1] face sigmoid\n",
      "250\n",
      "0.694372103 0.3399067526 0.2364358114  0.7009692471 0.3404971131 0.2364090988\n",
      "\n",
      "2016_08_02 5 none face sigmoid\n",
      "250\n",
      "0.7492947223 0.3664699411 0.1261071437  0.7581043453 0.3781397111 0.1261088178\n",
      "\n",
      "2016_08_02 6 [-1,1] contrast sigmoid\n",
      "250\n",
      "0.6747339658 0.2757803833 0.2425448638  0.6690173556 0.2903097677 0.2425176784\n",
      "\n",
      "2016_08_03 1 none contrast sigmoid\n",
      "250\n",
      "0.6927673332 0.3056083931 0.2423508124  0.739050351 0.3386324492 0.2423543693\n",
      "\n"
     ]
    }
   ],
   "source": [
    "# Matplotlib\n",
    "import matplotlib.pyplot as plt\n",
    "%matplotlib inline\n",
    "\n",
    "# Pathing\n",
    "import sys\n",
    "sys.path.append(\"../src\")\n",
    "from os.path import join\n",
    "from results import prefix\n",
    "\n",
    "# Results\n",
    "import results\n",
    "reload(results)\n",
    "print 'Done.'\n",
    "# print 'early roc it,early roc, early f1,early auto,final roc,final f1,final auto'\n",
    "# print '      roc f1 auto       roc f1 auto'\n",
    "\n",
    "Results = results.Results\n",
    "\n",
    "def compare(l,date,group):\n",
    "    p = 10\n",
    "    for ID in l:\n",
    "        print date, ID, \n",
    "        try:\n",
    "            r = Results(date, ID,local=False,experiment_group=group)\n",
    "            print r.config['data']['scaling'],r.config['data']['normalisation_type'],\n",
    "            print r.config['autoencoder']['activation']\n",
    "            print r.config['results']['early_stop_iteration']\n",
    "            ef1, eroc = r.get_f1_roc('test',model='early')\n",
    "            ff1, froc = r.get_f1_roc('test',model='final')\n",
    "            print round(eroc,p),round(ef1,p),\n",
    "            print round(r.early_model['true_autoencoder_loss'],p),\n",
    "            print '',\n",
    "            print round(froc,p),round(ff1,p),\n",
    "            print round(r.final_model['true_autoencoder_loss'],p)\n",
    "            print\n",
    "        except IOError as io:\n",
    "            print io\n",
    "        except AttributeError as ae:\n",
    "            print ae\n",
    "            \n",
    "print 'auto'\n",
    "compare([i for i in xrange(3,7+1)],date='2016_08_02',group='auto')\n",
    "\n",
    "print 'class'\n",
    "compare([i for i in xrange(3,6+1)],date='2016_08_02',group='class')\n",
    "compare([1],date='2016_08_03',group='class')"
   ]
  },
  {
   "cell_type": "code",
   "execution_count": null,
   "metadata": {
    "collapsed": true
   },
   "outputs": [],
   "source": []
  }
 ],
 "metadata": {
  "kernelspec": {
   "display_name": "Python 2",
   "language": "python",
   "name": "python2"
  },
  "language_info": {
   "codemirror_mode": {
    "name": "ipython",
    "version": 2
   },
   "file_extension": ".py",
   "mimetype": "text/x-python",
   "name": "python",
   "nbconvert_exporter": "python",
   "pygments_lexer": "ipython2",
   "version": "2.7.10"
  }
 },
 "nbformat": 4,
 "nbformat_minor": 0
}
